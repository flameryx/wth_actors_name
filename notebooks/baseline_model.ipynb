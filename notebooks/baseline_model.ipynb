{
 "cells": [
  {
   "cell_type": "code",
   "execution_count": 1,
   "metadata": {},
   "outputs": [],
   "source": [
    "import os\n",
    "import glob\n",
    "import numpy as np\n",
    "import tensorflow as tf\n",
    "from tqdm.notebook import tqdm\n",
    "from PIL import Image, ImageOps\n",
    "from tensorflow.keras import models, layers, optimizers\n",
    "# from tensorflow.keras import layers\n",
    "# from tensorflow.keras import optimizers\n",
    "from tensorflow.keras.callbacks import EarlyStopping\n",
    "from tensorflow.keras.utils import to_categorical\n",
    "from sklearn.model_selection import train_test_split"
   ]
  },
  {
   "cell_type": "code",
   "execution_count": 2,
   "metadata": {},
   "outputs": [
    {
     "ename": "FileNotFoundError",
     "evalue": "[Errno 2] No such file or directory: '/home/antoniosf/Desktop/Project_practice/20_actors'",
     "output_type": "error",
     "traceback": [
      "\u001b[0;31m---------------------------------------------------------------------------\u001b[0m",
      "\u001b[0;31mFileNotFoundError\u001b[0m                         Traceback (most recent call last)",
      "\u001b[0;32m<ipython-input-2-d75a60aca94c>\u001b[0m in \u001b[0;36m<module>\u001b[0;34m\u001b[0m\n\u001b[1;32m      3\u001b[0m \u001b[0mtest_dir\u001b[0m \u001b[0;34m=\u001b[0m \u001b[0;34m\"/home/antoniosf/Desktop/Project_practice/20_actors\"\u001b[0m\u001b[0;34m\u001b[0m\u001b[0;34m\u001b[0m\u001b[0m\n\u001b[1;32m      4\u001b[0m \u001b[0mactors\u001b[0m \u001b[0;34m=\u001b[0m \u001b[0;34m[\u001b[0m\u001b[0;34m]\u001b[0m\u001b[0;34m\u001b[0m\u001b[0;34m\u001b[0m\u001b[0m\n\u001b[0;32m----> 5\u001b[0;31m \u001b[0;32mfor\u001b[0m \u001b[0mfilename\u001b[0m \u001b[0;32min\u001b[0m \u001b[0mos\u001b[0m\u001b[0;34m.\u001b[0m\u001b[0mlistdir\u001b[0m\u001b[0;34m(\u001b[0m\u001b[0mtest_dir\u001b[0m\u001b[0;34m)\u001b[0m\u001b[0;34m:\u001b[0m\u001b[0;34m\u001b[0m\u001b[0;34m\u001b[0m\u001b[0m\n\u001b[0m\u001b[1;32m      6\u001b[0m     \u001b[0mactors\u001b[0m\u001b[0;34m.\u001b[0m\u001b[0mappend\u001b[0m\u001b[0;34m(\u001b[0m\u001b[0mfilename\u001b[0m\u001b[0;34m)\u001b[0m\u001b[0;34m\u001b[0m\u001b[0;34m\u001b[0m\u001b[0m\n\u001b[1;32m      7\u001b[0m \u001b[0;31m# actors\u001b[0m\u001b[0;34m\u001b[0m\u001b[0;34m\u001b[0m\u001b[0;34m\u001b[0m\u001b[0m\n",
      "\u001b[0;31mFileNotFoundError\u001b[0m: [Errno 2] No such file or directory: '/home/antoniosf/Desktop/Project_practice/20_actors'"
     ]
    }
   ],
   "source": [
    "# Creating a list of actors iterating through the folder of actors\n",
    "\n",
    "test_dir = \"/home/antoniosf/Desktop/Project_practice/20_actors\"\n",
    "actors = []\n",
    "for filename in os.listdir(test_dir):\n",
    "    actors.append(filename)\n",
    "# actors"
   ]
  },
  {
   "cell_type": "code",
   "execution_count": null,
   "metadata": {},
   "outputs": [],
   "source": [
    "# Creating a list of numbers to use as labels for each actor\n",
    "\n",
    "actors.sort()\n",
    "\n",
    "labels_values = []\n",
    "for i in range(len(actors)):\n",
    "    labels_values.append(i)\n",
    "# labels_values"
   ]
  },
  {
   "cell_type": "code",
   "execution_count": 4,
   "metadata": {},
   "outputs": [],
   "source": [
    "# Combining the two list into a dictionary\n",
    "\n",
    "labels_dict = dict(zip(actors, labels_values))\n",
    "# labels_dict"
   ]
  },
  {
   "cell_type": "code",
   "execution_count": 4,
   "metadata": {},
   "outputs": [],
   "source": [
    "# Function to read the images\n",
    "\n",
    "def read_images(directory):\n",
    "\n",
    "\n",
    "    images = []\n",
    "    labels = []\n",
    "    for filename in os.listdir(directory):\n",
    "\n",
    "        files = glob.glob(directory + \"/\" + filename + \"/*.jpg\")\n",
    "        for f in tqdm(files):\n",
    "            try:\n",
    "                im = Image.open(f)\n",
    "#                 im = ImageOps.grayscale(im2)\n",
    "#                 im = im.resize(resize_to)\n",
    "                im = np.array(im) / 255.0 # Converting to numpy array and normalizing\n",
    "                im = im.astype(\"float32\") # Converting to float\n",
    "                im = tf.expand_dims(im, axis=-1) # Adding one dimension \n",
    "                images.append(im)\n",
    "                name = filename.split(\"/\")[-1].split(\".\")[0]\n",
    "                label = labels_dict[name]\n",
    "                labels.append(label)\n",
    "            except Exception as e:\n",
    "                print(f)\n",
    "                print(e)\n",
    "\n",
    "    return images, np.array(labels)\n",
    "\n"
   ]
  },
  {
   "cell_type": "code",
   "execution_count": 5,
   "metadata": {},
   "outputs": [
    {
     "ename": "ImportError",
     "evalue": "IProgress not found. Please update jupyter and ipywidgets. See https://ipywidgets.readthedocs.io/en/stable/user_install.html",
     "output_type": "error",
     "traceback": [
      "\u001b[0;31m---------------------------------------------------------------------------\u001b[0m",
      "\u001b[0;31mImportError\u001b[0m                               Traceback (most recent call last)",
      "\u001b[0;32m<ipython-input-5-4a058c42b40b>\u001b[0m in \u001b[0;36m<module>\u001b[0;34m\u001b[0m\n\u001b[1;32m      1\u001b[0m \u001b[0mdirectory\u001b[0m \u001b[0;34m=\u001b[0m \u001b[0;34m\"/Users/elias/Desktop/preprocessed test images\"\u001b[0m\u001b[0;34m\u001b[0m\u001b[0;34m\u001b[0m\u001b[0m\n\u001b[1;32m      2\u001b[0m \u001b[0;34m\u001b[0m\u001b[0m\n\u001b[0;32m----> 3\u001b[0;31m \u001b[0mX\u001b[0m\u001b[0;34m,\u001b[0m \u001b[0my\u001b[0m \u001b[0;34m=\u001b[0m \u001b[0mread_images\u001b[0m\u001b[0;34m(\u001b[0m\u001b[0mdirectory\u001b[0m\u001b[0;34m=\u001b[0m\u001b[0mdirectory\u001b[0m\u001b[0;34m)\u001b[0m \u001b[0;31m#Loading the preprocessed images\u001b[0m\u001b[0;34m\u001b[0m\u001b[0;34m\u001b[0m\u001b[0m\n\u001b[0m",
      "\u001b[0;32m<ipython-input-4-ece8dbcd4641>\u001b[0m in \u001b[0;36mread_images\u001b[0;34m(directory)\u001b[0m\n\u001b[1;32m      9\u001b[0m \u001b[0;34m\u001b[0m\u001b[0m\n\u001b[1;32m     10\u001b[0m         \u001b[0mfiles\u001b[0m \u001b[0;34m=\u001b[0m \u001b[0mglob\u001b[0m\u001b[0;34m.\u001b[0m\u001b[0mglob\u001b[0m\u001b[0;34m(\u001b[0m\u001b[0mdirectory\u001b[0m \u001b[0;34m+\u001b[0m \u001b[0;34m\"/\"\u001b[0m \u001b[0;34m+\u001b[0m \u001b[0mfilename\u001b[0m \u001b[0;34m+\u001b[0m \u001b[0;34m\"/*.jpg\"\u001b[0m\u001b[0;34m)\u001b[0m\u001b[0;34m\u001b[0m\u001b[0;34m\u001b[0m\u001b[0m\n\u001b[0;32m---> 11\u001b[0;31m         \u001b[0;32mfor\u001b[0m \u001b[0mf\u001b[0m \u001b[0;32min\u001b[0m \u001b[0mtqdm\u001b[0m\u001b[0;34m(\u001b[0m\u001b[0mfiles\u001b[0m\u001b[0;34m)\u001b[0m\u001b[0;34m:\u001b[0m\u001b[0;34m\u001b[0m\u001b[0;34m\u001b[0m\u001b[0m\n\u001b[0m\u001b[1;32m     12\u001b[0m             \u001b[0;32mtry\u001b[0m\u001b[0;34m:\u001b[0m\u001b[0;34m\u001b[0m\u001b[0;34m\u001b[0m\u001b[0m\n\u001b[1;32m     13\u001b[0m                 \u001b[0mim\u001b[0m \u001b[0;34m=\u001b[0m \u001b[0mImage\u001b[0m\u001b[0;34m.\u001b[0m\u001b[0mopen\u001b[0m\u001b[0;34m(\u001b[0m\u001b[0mf\u001b[0m\u001b[0;34m)\u001b[0m\u001b[0;34m\u001b[0m\u001b[0;34m\u001b[0m\u001b[0m\n",
      "\u001b[0;32m~/.pyenv/versions/3.8.6/envs/wth-actors-name/lib/python3.8/site-packages/tqdm/notebook.py\u001b[0m in \u001b[0;36m__init__\u001b[0;34m(self, *args, **kwargs)\u001b[0m\n\u001b[1;32m    238\u001b[0m         \u001b[0munit_scale\u001b[0m \u001b[0;34m=\u001b[0m \u001b[0;36m1\u001b[0m \u001b[0;32mif\u001b[0m \u001b[0mself\u001b[0m\u001b[0;34m.\u001b[0m\u001b[0munit_scale\u001b[0m \u001b[0;32mis\u001b[0m \u001b[0;32mTrue\u001b[0m \u001b[0;32melse\u001b[0m \u001b[0mself\u001b[0m\u001b[0;34m.\u001b[0m\u001b[0munit_scale\u001b[0m \u001b[0;32mor\u001b[0m \u001b[0;36m1\u001b[0m\u001b[0;34m\u001b[0m\u001b[0;34m\u001b[0m\u001b[0m\n\u001b[1;32m    239\u001b[0m         \u001b[0mtotal\u001b[0m \u001b[0;34m=\u001b[0m \u001b[0mself\u001b[0m\u001b[0;34m.\u001b[0m\u001b[0mtotal\u001b[0m \u001b[0;34m*\u001b[0m \u001b[0munit_scale\u001b[0m \u001b[0;32mif\u001b[0m \u001b[0mself\u001b[0m\u001b[0;34m.\u001b[0m\u001b[0mtotal\u001b[0m \u001b[0;32melse\u001b[0m \u001b[0mself\u001b[0m\u001b[0;34m.\u001b[0m\u001b[0mtotal\u001b[0m\u001b[0;34m\u001b[0m\u001b[0;34m\u001b[0m\u001b[0m\n\u001b[0;32m--> 240\u001b[0;31m         \u001b[0mself\u001b[0m\u001b[0;34m.\u001b[0m\u001b[0mcontainer\u001b[0m \u001b[0;34m=\u001b[0m \u001b[0mself\u001b[0m\u001b[0;34m.\u001b[0m\u001b[0mstatus_printer\u001b[0m\u001b[0;34m(\u001b[0m\u001b[0mself\u001b[0m\u001b[0;34m.\u001b[0m\u001b[0mfp\u001b[0m\u001b[0;34m,\u001b[0m \u001b[0mtotal\u001b[0m\u001b[0;34m,\u001b[0m \u001b[0mself\u001b[0m\u001b[0;34m.\u001b[0m\u001b[0mdesc\u001b[0m\u001b[0;34m,\u001b[0m \u001b[0mself\u001b[0m\u001b[0;34m.\u001b[0m\u001b[0mncols\u001b[0m\u001b[0;34m)\u001b[0m\u001b[0;34m\u001b[0m\u001b[0;34m\u001b[0m\u001b[0m\n\u001b[0m\u001b[1;32m    241\u001b[0m         \u001b[0mself\u001b[0m\u001b[0;34m.\u001b[0m\u001b[0mcontainer\u001b[0m\u001b[0;34m.\u001b[0m\u001b[0mpbar\u001b[0m \u001b[0;34m=\u001b[0m \u001b[0mself\u001b[0m\u001b[0;34m\u001b[0m\u001b[0;34m\u001b[0m\u001b[0m\n\u001b[1;32m    242\u001b[0m         \u001b[0;32mif\u001b[0m \u001b[0mdisplay_here\u001b[0m\u001b[0;34m:\u001b[0m\u001b[0;34m\u001b[0m\u001b[0;34m\u001b[0m\u001b[0m\n",
      "\u001b[0;32m~/.pyenv/versions/3.8.6/envs/wth-actors-name/lib/python3.8/site-packages/tqdm/notebook.py\u001b[0m in \u001b[0;36mstatus_printer\u001b[0;34m(_, total, desc, ncols)\u001b[0m\n\u001b[1;32m    115\u001b[0m         \u001b[0;31m# Prepare IPython progress bar\u001b[0m\u001b[0;34m\u001b[0m\u001b[0;34m\u001b[0m\u001b[0;34m\u001b[0m\u001b[0m\n\u001b[1;32m    116\u001b[0m         \u001b[0;32mif\u001b[0m \u001b[0mIProgress\u001b[0m \u001b[0;32mis\u001b[0m \u001b[0;32mNone\u001b[0m\u001b[0;34m:\u001b[0m  \u001b[0;31m# #187 #451 #558 #872\u001b[0m\u001b[0;34m\u001b[0m\u001b[0;34m\u001b[0m\u001b[0m\n\u001b[0;32m--> 117\u001b[0;31m             raise ImportError(\n\u001b[0m\u001b[1;32m    118\u001b[0m                 \u001b[0;34m\"IProgress not found. Please update jupyter and ipywidgets.\"\u001b[0m\u001b[0;34m\u001b[0m\u001b[0;34m\u001b[0m\u001b[0m\n\u001b[1;32m    119\u001b[0m                 \u001b[0;34m\" See https://ipywidgets.readthedocs.io/en/stable\"\u001b[0m\u001b[0;34m\u001b[0m\u001b[0;34m\u001b[0m\u001b[0m\n",
      "\u001b[0;31mImportError\u001b[0m: IProgress not found. Please update jupyter and ipywidgets. See https://ipywidgets.readthedocs.io/en/stable/user_install.html"
     ]
    }
   ],
   "source": [
    "directory = \"/Users/elias/Desktop/preprocessed test images\"\n",
    "\n",
    "X, y = read_images(directory=directory) #Loading the preprocessed images"
   ]
  },
  {
   "cell_type": "code",
   "execution_count": 7,
   "metadata": {},
   "outputs": [
    {
     "data": {
      "text/plain": [
       "{0: 100,\n",
       " 1: 100,\n",
       " 2: 100,\n",
       " 3: 100,\n",
       " 4: 100,\n",
       " 5: 100,\n",
       " 6: 100,\n",
       " 7: 100,\n",
       " 8: 100,\n",
       " 9: 100,\n",
       " 10: 100,\n",
       " 11: 100,\n",
       " 12: 100,\n",
       " 13: 100,\n",
       " 14: 100,\n",
       " 15: 100,\n",
       " 16: 100,\n",
       " 17: 100,\n",
       " 18: 100,\n",
       " 19: 100}"
      ]
     },
     "execution_count": 7,
     "metadata": {},
     "output_type": "execute_result"
    }
   ],
   "source": [
    "unique, counts = np.unique(y, return_counts=True)\n",
    "dict(zip(unique, counts)) # Checking the number of images per label"
   ]
  },
  {
   "cell_type": "code",
   "execution_count": 8,
   "metadata": {},
   "outputs": [],
   "source": [
    "X_train, X_test, y_train, y_test = train_test_split(X, y, test_size=0.33)"
   ]
  },
  {
   "cell_type": "code",
   "execution_count": 9,
   "metadata": {},
   "outputs": [
    {
     "data": {
      "text/plain": [
       "(1.0, 0.0)"
      ]
     },
     "execution_count": 9,
     "metadata": {},
     "output_type": "execute_result"
    }
   ],
   "source": [
    "np.max(X_train), np.min(X_train) # Checking if normalized"
   ]
  },
  {
   "cell_type": "code",
   "execution_count": 10,
   "metadata": {},
   "outputs": [
    {
     "data": {
      "text/plain": [
       "(1.0, 0.0)"
      ]
     },
     "execution_count": 10,
     "metadata": {},
     "output_type": "execute_result"
    }
   ],
   "source": [
    "np.max(X_test), np.min(X_test) # Checking if normalized"
   ]
  },
  {
   "cell_type": "code",
   "execution_count": 11,
   "metadata": {},
   "outputs": [],
   "source": [
    "# Converting y to categorical\n",
    "\n",
    "y_train = to_categorical(y_train, 20)\n",
    "y_test = to_categorical(y_test, 20)"
   ]
  },
  {
   "cell_type": "code",
   "execution_count": 12,
   "metadata": {},
   "outputs": [],
   "source": [
    "def initialize_model():\n",
    "    model = models.Sequential()\n",
    "#     model.add(layers.Conv2D(32, kernel_size=3, padding='same', input_shape=(128, 128, 1), activation='relu'))\n",
    "    model.add(layers.Conv2D(16, (4,4), input_shape=(100, 100, 1)))\n",
    "    model.add(layers.MaxPooling2D(pool_size=(2, 2)))\n",
    "\n",
    "#     model.add(layers.Conv2D(64, (2, 2), padding='same', activation='relu'))\n",
    "#     model.add(layers.MaxPooling2D(pool_size=(2, 2)))\n",
    "\n",
    "#     model.add(layers.Conv2D(128, (3, 3), padding='same', activation='relu'))\n",
    "#     model.add(layers.MaxPooling2D(pool_size=(3, 3)))\n",
    "    \n",
    "#     model.add(layers.Conv2D(128, (3, 3), padding='same', activation='relu'))\n",
    "#     model.add(layers.MaxPooling2D(pool_size=(3, 3)))\n",
    "    \n",
    "    model.add(layers.Flatten())\n",
    "\n",
    "#     model.add(layers.Dense(120, activation='relu'))\n",
    "#     model.add(layers.Dense(60, activation='relu'))\n",
    "#     model.add(layers.Dense(60, activation='relu'))\n",
    "\n",
    "\n",
    "    model.add(layers.Dense(20, activation='softmax'))\n",
    "    \n",
    "    return model"
   ]
  },
  {
   "cell_type": "code",
   "execution_count": 13,
   "metadata": {},
   "outputs": [
    {
     "name": "stdout",
     "output_type": "stream",
     "text": [
      "Model: \"sequential\"\n",
      "_________________________________________________________________\n",
      "Layer (type)                 Output Shape              Param #   \n",
      "=================================================================\n",
      "conv2d (Conv2D)              (None, 97, 97, 16)        272       \n",
      "_________________________________________________________________\n",
      "max_pooling2d (MaxPooling2D) (None, 48, 48, 16)        0         \n",
      "_________________________________________________________________\n",
      "flatten (Flatten)            (None, 36864)             0         \n",
      "_________________________________________________________________\n",
      "dense (Dense)                (None, 20)                737300    \n",
      "=================================================================\n",
      "Total params: 737,572\n",
      "Trainable params: 737,572\n",
      "Non-trainable params: 0\n",
      "_________________________________________________________________\n"
     ]
    }
   ],
   "source": [
    "model = initialize_model()\n",
    "\n",
    "model.summary()"
   ]
  },
  {
   "cell_type": "code",
   "execution_count": 14,
   "metadata": {},
   "outputs": [],
   "source": [
    "def compile_model(model):\n",
    "    model.compile(loss='categorical_crossentropy',\n",
    "                  optimizer='adam',\n",
    "                  metrics=['accuracy'])\n",
    "    return model"
   ]
  },
  {
   "cell_type": "code",
   "execution_count": 15,
   "metadata": {},
   "outputs": [
    {
     "name": "stdout",
     "output_type": "stream",
     "text": [
      "Epoch 1/100\n",
      "59/59 [==============================] - 4s 47ms/step - loss: 4.8416 - accuracy: 0.0691 - val_loss: 2.8315 - val_accuracy: 0.1687\n",
      "Epoch 2/100\n",
      "59/59 [==============================] - 2s 28ms/step - loss: 2.5176 - accuracy: 0.3516 - val_loss: 2.6110 - val_accuracy: 0.2903\n",
      "Epoch 3/100\n",
      "59/59 [==============================] - 2s 28ms/step - loss: 2.1069 - accuracy: 0.4690 - val_loss: 2.4103 - val_accuracy: 0.3474\n",
      "Epoch 4/100\n",
      "59/59 [==============================] - 2s 28ms/step - loss: 1.6158 - accuracy: 0.6388 - val_loss: 2.2638 - val_accuracy: 0.3921\n",
      "Epoch 5/100\n",
      "59/59 [==============================] - 2s 28ms/step - loss: 1.2811 - accuracy: 0.7546 - val_loss: 2.1668 - val_accuracy: 0.4144\n",
      "Epoch 6/100\n",
      "59/59 [==============================] - 2s 28ms/step - loss: 0.9813 - accuracy: 0.8341 - val_loss: 2.1910 - val_accuracy: 0.3896\n",
      "Epoch 7/100\n",
      "59/59 [==============================] - 2s 28ms/step - loss: 0.7959 - accuracy: 0.8548 - val_loss: 2.1006 - val_accuracy: 0.4144\n",
      "Epoch 8/100\n",
      "59/59 [==============================] - 2s 28ms/step - loss: 0.5661 - accuracy: 0.9208 - val_loss: 2.1212 - val_accuracy: 0.4069\n",
      "Epoch 9/100\n",
      "59/59 [==============================] - 2s 28ms/step - loss: 0.4858 - accuracy: 0.9229 - val_loss: 2.1345 - val_accuracy: 0.4342\n",
      "Epoch 10/100\n",
      "59/59 [==============================] - 2s 28ms/step - loss: 0.4250 - accuracy: 0.9321 - val_loss: 2.1883 - val_accuracy: 0.4069\n",
      "Epoch 11/100\n",
      "59/59 [==============================] - 2s 27ms/step - loss: 0.2992 - accuracy: 0.9437 - val_loss: 2.1934 - val_accuracy: 0.4169\n",
      "Epoch 12/100\n",
      "59/59 [==============================] - 2s 28ms/step - loss: 0.2562 - accuracy: 0.9544 - val_loss: 2.2568 - val_accuracy: 0.4144\n",
      "Epoch 13/100\n",
      "59/59 [==============================] - 2s 28ms/step - loss: 0.2282 - accuracy: 0.9635 - val_loss: 2.2961 - val_accuracy: 0.4169\n",
      "Epoch 14/100\n",
      "59/59 [==============================] - 2s 28ms/step - loss: 0.1859 - accuracy: 0.9708 - val_loss: 2.3486 - val_accuracy: 0.3995\n",
      "Epoch 15/100\n",
      "59/59 [==============================] - 2s 27ms/step - loss: 0.1819 - accuracy: 0.9673 - val_loss: 2.3922 - val_accuracy: 0.4069\n",
      "Epoch 16/100\n",
      "59/59 [==============================] - 2s 27ms/step - loss: 0.1524 - accuracy: 0.9755 - val_loss: 2.4473 - val_accuracy: 0.3896\n",
      "Epoch 17/100\n",
      "59/59 [==============================] - 2s 28ms/step - loss: 0.1572 - accuracy: 0.9720 - val_loss: 2.4741 - val_accuracy: 0.4169\n",
      "Epoch 00017: early stopping\n"
     ]
    }
   ],
   "source": [
    "# from tensorflow.keras.callbacks import EarlyStopping\n",
    "\n",
    "model = initialize_model()\n",
    "model = compile_model(model)\n",
    "\n",
    "es = EarlyStopping(patience=10, verbose=1)\n",
    "\n",
    "history = model.fit(np.array(X_train), y_train, \n",
    "                    validation_split=0.3,\n",
    "                    callbacks=[es], \n",
    "                    epochs=100, \n",
    "                    batch_size=16)"
   ]
  },
  {
   "cell_type": "code",
   "execution_count": 16,
   "metadata": {},
   "outputs": [
    {
     "data": {
      "text/plain": [
       "[2.550947666168213, 0.42575758695602417]"
      ]
     },
     "execution_count": 16,
     "metadata": {},
     "output_type": "execute_result"
    }
   ],
   "source": [
    "model.evaluate(np.array(X_test), y_test, verbose=0)"
   ]
  }
 ],
 "metadata": {
  "kernelspec": {
   "display_name": "Python 3",
   "language": "python",
   "name": "python3"
  },
  "language_info": {
   "codemirror_mode": {
    "name": "ipython",
    "version": 3
   },
   "file_extension": ".py",
   "mimetype": "text/x-python",
   "name": "python",
   "nbconvert_exporter": "python",
   "pygments_lexer": "ipython3",
   "version": "3.8.6"
  }
 },
 "nbformat": 4,
 "nbformat_minor": 4
}
