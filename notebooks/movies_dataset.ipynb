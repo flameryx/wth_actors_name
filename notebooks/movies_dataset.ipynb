{
 "cells": [
  {
   "cell_type": "code",
   "execution_count": 1,
   "id": "diagnostic-japan",
   "metadata": {},
   "outputs": [],
   "source": [
    "import toolbox as tb\n",
    "import pandas as pd\n",
    "import numpy as np\n",
    "from sklearn.neighbors import NearestNeighbors"
   ]
  },
  {
   "cell_type": "code",
   "execution_count": null,
   "id": "constant-angola",
   "metadata": {},
   "outputs": [],
   "source": [
    "movies_df = pd.read_csv(\"../wth_actors_name/data/main_movie.csv\").drop(columns=\"Unnamed: 0\")"
   ]
  },
  {
   "cell_type": "code",
   "execution_count": null,
   "id": "higher-amino",
   "metadata": {},
   "outputs": [],
   "source": [
    "movies_df = movies_df.drop(columns=[\"titleType\", \"endYear\", \"originalTitle\", \"awards\", \"budget\", \"isAdult\"])"
   ]
  },
  {
   "cell_type": "markdown",
   "id": "express-scottish",
   "metadata": {},
   "source": [
    "### Dealing with NaN and converting to numerical dtypes"
   ]
  },
  {
   "cell_type": "code",
   "execution_count": null,
   "id": "beginning-sterling",
   "metadata": {},
   "outputs": [],
   "source": [
    "# Dealing with NaN values\n",
    "movies_df = movies_df[movies_df[\"numVotes\"].notnull()]\n",
    "movies_df = movies_df[movies_df[\"runtimeMinutes\"] != \"\\\\N\"]\n",
    "movies_df[\"totalNoms\"] = movies_df[\"totalNoms\"].fillna(0)"
   ]
  },
  {
   "cell_type": "code",
   "execution_count": null,
   "id": "magnetic-hobby",
   "metadata": {},
   "outputs": [],
   "source": [
    "# Converting to int or float dtypes\n",
    "movies_df[\"numVotes\"] = movies_df[\"numVotes\"].astype(int)\n",
    "\n",
    "movies_df[\"runtimeMinutes\"] = movies_df[\"runtimeMinutes\"].astype(int)\n",
    "\n",
    "movies_df[\"totalNoms\"] = movies_df[\"totalNoms\"].astype(int)\n",
    "\n",
    "\n",
    "wwg_list = list(movies_df[\"worldwideGross\"])\n",
    "\n",
    "for i, gross in enumerate(wwg_list):\n",
    "    \n",
    "    if type(gross) != float:\n",
    "        wwg_list[i] = int(gross.replace(\"$\", \"\").replace(\",\", \"\"))\n",
    "        \n",
    "movies_df[\"worldwideGross\"] = wwg_list\n",
    "\n",
    "wwg_median = movies_df[\"worldwideGross\"].median()\n",
    "\n",
    "movies_df[\"worldwideGross\"].fillna(wwg_median, inplace=True)\n",
    "\n",
    "movies_df[\"worldwideGross\"] = movies_df[\"worldwideGross\"].astype(int)\n",
    "\n",
    "movies_df.reset_index(inplace=True)\n",
    "movies_df.drop(columns=\"index\", inplace=True)"
   ]
  },
  {
   "cell_type": "markdown",
   "id": "framed-designation",
   "metadata": {},
   "source": [
    "### OneHotEncode all features non-numerical features"
   ]
  },
  {
   "cell_type": "code",
   "execution_count": null,
   "id": "authorized-district",
   "metadata": {},
   "outputs": [],
   "source": [
    "\"\"\"Converts columns which contain strings of values as elements, into OneHotEncod\"\"\"\n",
    "\n",
    "def create_features_ohe(df, column):\n",
    "    column_list = list(df[column])\n",
    "    \n",
    "    # Split values\n",
    "    for i, row in enumerate(column_list):\n",
    "        if type(row) != float:\n",
    "            column_list[i] = row.split(\",\")\n",
    "      \n",
    "    \n",
    "    # Create list of unique values\n",
    "    all_features = []\n",
    "    for row in column_list:\n",
    "        \n",
    "        if type(row) != float:\n",
    "            for feature in row:\n",
    "                if feature not in all_features:\n",
    "                    all_features.append(feature)\n",
    "            \n",
    "    all_features.sort()\n",
    "    \n",
    "    \n",
    "    # Create a column for each value in all_features\n",
    "    for feature in all_features:\n",
    "        df[f\"{column}_{feature.lower()}\"] = 0\n",
    "        \n",
    "    \n",
    "    # OneHotEncoding for each row\n",
    "    for i, row in enumerate(column_list):\n",
    "        \n",
    "        if type(row) != float:\n",
    "            for feature in row:\n",
    "\n",
    "                df.loc[i, f\"{column}_{feature.lower()}\"] = 1 \n",
    "\n",
    "    return"
   ]
  },
  {
   "cell_type": "markdown",
   "id": "aware-penetration",
   "metadata": {},
   "source": [
    "**Features to OneHotEncode:** \"genres\", \"directors\", \"actors\", \"writers\", \"country\", \"language\""
   ]
  },
  {
   "cell_type": "code",
   "execution_count": null,
   "id": "pharmaceutical-contamination",
   "metadata": {},
   "outputs": [],
   "source": [
    "create_features_ohe(movies_df, \"genres\")\n",
    "\n",
    "create_features_ohe(movies_df, \"directors\")\n",
    "\n",
    "create_features_ohe(movies_df, \"writers\")\n",
    "\n",
    "create_features_ohe(movies_df, \"actors\")\n",
    "\n",
    "create_features_ohe(movies_df, \"country\")\n",
    "\n",
    "create_features_ohe(movies_df, \"language\")"
   ]
  },
  {
   "cell_type": "code",
   "execution_count": null,
   "id": "frozen-mumbai",
   "metadata": {},
   "outputs": [],
   "source": [
    "movies_df = movies_df.drop(columns=[\"genres\", \"directors\", \"writers\", \"actors\", \"country\", \"language\"])"
   ]
  },
  {
   "cell_type": "code",
   "execution_count": null,
   "id": "fixed-heating",
   "metadata": {},
   "outputs": [],
   "source": [
    "movies_df.to_csv(\"../wth_actors_name/data/ohe_movie.csv\")"
   ]
  },
  {
   "cell_type": "markdown",
   "id": "opposed-london",
   "metadata": {},
   "source": [
    "## Feature Analysis"
   ]
  },
  {
   "cell_type": "code",
   "execution_count": null,
   "id": "utility-contract",
   "metadata": {},
   "outputs": [],
   "source": [
    "import matplotlib.pyplot as plt"
   ]
  },
  {
   "cell_type": "code",
   "execution_count": null,
   "id": "behavioral-sentence",
   "metadata": {},
   "outputs": [],
   "source": [
    "plt.boxplot(movies_df[\"startYear\"])\n",
    "plt.show()\n",
    "plt.hist(movies_df[\"startYear\"])\n",
    "plt.show()"
   ]
  },
  {
   "cell_type": "code",
   "execution_count": null,
   "id": "coupled-breach",
   "metadata": {
    "scrolled": false
   },
   "outputs": [],
   "source": [
    "plt.boxplot(movies_df[\"worldwideGross\"])\n",
    "plt.show()\n",
    "plt.hist(movies_df[\"worldwideGross\"])\n",
    "plt.show()"
   ]
  },
  {
   "cell_type": "code",
   "execution_count": null,
   "id": "communist-table",
   "metadata": {
    "scrolled": false
   },
   "outputs": [],
   "source": [
    "plt.boxplot(movies_df[\"numVotes\"])\n",
    "plt.show()\n",
    "plt.hist(movies_df[\"numVotes\"])\n",
    "plt.show"
   ]
  },
  {
   "cell_type": "code",
   "execution_count": null,
   "id": "hairy-highlight",
   "metadata": {},
   "outputs": [],
   "source": [
    "plt.boxplot(movies_df[\"runtimeMinutes\"])\n",
    "plt.show()\n",
    "plt.hist(movies_df[\"runtimeMinutes\"])\n",
    "plt.show()"
   ]
  },
  {
   "cell_type": "markdown",
   "id": "flexible-moment",
   "metadata": {},
   "source": [
    "### Feature scaling"
   ]
  },
  {
   "cell_type": "code",
   "execution_count": null,
   "id": "exterior-float",
   "metadata": {},
   "outputs": [],
   "source": [
    "from sklearn.preprocessing import MinMaxScaler, RobustScaler"
   ]
  },
  {
   "cell_type": "code",
   "execution_count": null,
   "id": "gentle-humor",
   "metadata": {},
   "outputs": [],
   "source": [
    "ohe_df = pd.read_csv(\"../wth_actors_name/data/ohe_movie.csv\").drop(columns=[\"Unnamed: 0\"])"
   ]
  },
  {
   "cell_type": "code",
   "execution_count": null,
   "id": "continuing-accident",
   "metadata": {},
   "outputs": [],
   "source": [
    "scaler = MinMaxScaler().fit(ohe_df[ohe_df.columns[2:]])\n",
    "ohe_df[ohe_df.columns[2:]] = scaler.transform(ohe_df[ohe_df.columns[2:]])"
   ]
  },
  {
   "cell_type": "code",
   "execution_count": null,
   "id": "front-candy",
   "metadata": {},
   "outputs": [],
   "source": [
    "ohe_df.to_csv(\"../wth_actors_name/data/ohe_df_scaled.csv\")"
   ]
  },
  {
   "cell_type": "markdown",
   "id": "driven-wilderness",
   "metadata": {},
   "source": [
    "**Note: Consider using multiple KNNs. You have to separate the datasets into movie-directors-genre, movie-writers-genre, movie-actors-genre and so forth. Maybe some extra features for each datasets.**"
   ]
  },
  {
   "cell_type": "markdown",
   "id": "stupid-rouge",
   "metadata": {},
   "source": [
    "**Consider bootstrapping models in order of importance of the features**"
   ]
  },
  {
   "cell_type": "markdown",
   "id": "smooth-semester",
   "metadata": {},
   "source": [
    "### KNN Model (Unsupervised)"
   ]
  },
  {
   "cell_type": "code",
   "execution_count": null,
   "id": "invalid-perfume",
   "metadata": {},
   "outputs": [],
   "source": [
    "ohe_df_scaled = pd.read_csv(\"../wth_actors_name/data/ohe_df_scaled.csv\").drop(columns=[\"Unnamed: 0\", \"oscarsNom\", \"goldenGlobesWon\", \"goldenGlobesNom\"])"
   ]
  },
  {
   "cell_type": "code",
   "execution_count": null,
   "id": "architectural-thermal",
   "metadata": {},
   "outputs": [],
   "source": [
    "X = ohe_df_scaled[ohe_df_scaled.columns[2:]]"
   ]
  },
  {
   "cell_type": "code",
   "execution_count": null,
   "id": "economic-partition",
   "metadata": {},
   "outputs": [],
   "source": [
    "nn_model = NearestNeighbors(n_neighbors=8)\n",
    "nn_model.fit(X)"
   ]
  },
  {
   "cell_type": "markdown",
   "id": "forced-kitchen",
   "metadata": {},
   "source": [
    "Movie Inputted:\n",
    "0 -> The Dark Knight"
   ]
  },
  {
   "cell_type": "code",
   "execution_count": null,
   "id": "wrapped-genesis",
   "metadata": {},
   "outputs": [],
   "source": [
    "ohe_df_scaled[ohe_df_scaled[\"primaryTitle\"] == \"The Dark Knight\" ]"
   ]
  },
  {
   "cell_type": "code",
   "execution_count": null,
   "id": "civilian-matthew",
   "metadata": {},
   "outputs": [],
   "source": [
    "nn_model.kneighbors(X.loc[[0]], 10)"
   ]
  },
  {
   "cell_type": "markdown",
   "id": "consecutive-bubble",
   "metadata": {},
   "source": [
    "**Recommendations:**<br>\n",
    "29 -> Batman Begins<br>\n",
    "18 -> The Dark Knight Rises<br>\n",
    "418 -> The Prestige<br>\n",
    "3 -> Inception<br>\n",
    "85 -> Interstellar<br>\n",
    "1040 -> Lucky Number Slevin<br>\n",
    "250 -> Anomalisa<br>\n",
    "26 -> Paan Singh Tomar<br>\n",
    "380 -> Se7en"
   ]
  },
  {
   "cell_type": "markdown",
   "id": "waiting-swift",
   "metadata": {},
   "source": [
    "Features order of importance:\n",
    "- 1. genre\n",
    "- 1. director\n",
    "- 1. actors\n"
   ]
  },
  {
   "cell_type": "markdown",
   "id": "logical-milan",
   "metadata": {},
   "source": [
    "Try bootstrapping with two models and check how good the results are."
   ]
  },
  {
   "cell_type": "markdown",
   "id": "medium-memphis",
   "metadata": {},
   "source": [
    "## Bootstrapping models"
   ]
  },
  {
   "cell_type": "code",
   "execution_count": 185,
   "id": "satisfactory-lawrence",
   "metadata": {},
   "outputs": [],
   "source": [
    "\"\"\"\n",
    "This function creates an ohe_df from the features that you select from the ohe_df\n",
    "\"\"\"\n",
    "\n",
    "def select_features(ohe_df, features):\n",
    "    \n",
    "    genres = []\n",
    "    writers = []\n",
    "    actors = []\n",
    "    countries = []\n",
    "    languages = []\n",
    "    directors = []\n",
    "    \n",
    "    columns = list(ohe_df.columns)\n",
    "    all_features = [\"tconst\", \"primaryTitle\"]\n",
    "    \n",
    "    if \"genres\" in features:\n",
    "        \n",
    "        for feat in columns:\n",
    "            if feat.find(\"genres\") != -1:\n",
    "                genres.append(feat)\n",
    "            \n",
    "    \n",
    "    if \"writers\" in features:\n",
    "        \n",
    "        for feat in columns:\n",
    "            if feat.find(\"writers\") != -1:\n",
    "                writers.append(feat)\n",
    "    \n",
    "    \n",
    "    if \"actors\" in features:\n",
    "        \n",
    "        for feat in columns:\n",
    "            if feat.find(\"actors\") != -1:\n",
    "                actors.append(feat)\n",
    "            \n",
    "            \n",
    "    if \"directors\" in features:\n",
    "        \n",
    "        for feat in columns:\n",
    "            if feat.find(\"directors\") != -1:\n",
    "                directors.append(feat)\n",
    "    \n",
    "    \n",
    "    if \"countries\" in features:\n",
    "        \n",
    "        for feat in columns:\n",
    "            if feat.find(\"country\") != -1:\n",
    "                countries.append(feat)\n",
    "                \n",
    "                    \n",
    "    if \"languages\" in features:\n",
    "        \n",
    "        for feat in columns:\n",
    "            if feat.find(\"languages\") != -1:\n",
    "                languages.append(feat)\n",
    "    \n",
    "    \n",
    "    if \"startYear\" in features:\n",
    "        all_features.append(\"startYear\")\n",
    "    \n",
    "    if \"runtimeMinutes\" in features:\n",
    "        all_features.append(\"runtimeMinutes\")\n",
    "        \n",
    "    if \"averageRating\" in features:\n",
    "        all_features.append(\"averageRating\")\n",
    "        \n",
    "    if \"numVotes\" in features:\n",
    "        all_features.append(\"numVotes\")\n",
    "        \n",
    "    if \"worldwideGross\" in features:\n",
    "        all_features.append(\"worldwideGross\")\n",
    "\n",
    "    if \"oscarsWon\" in features:\n",
    "        all_features.append(\"oscarsWon\")\n",
    "        \n",
    "    if \"totalWins\" in features:\n",
    "        all_features.append(\"totalWins\")\n",
    "        \n",
    "    if \"totalNoms\" in features:\n",
    "        all_features.append(\"totalNoms\")\n",
    "        \n",
    "    \n",
    "    all_features += genres + writers + actors + countries + languages + directors\n",
    "    \n",
    "    return ohe_df[all_features]\n",
    "\n",
    "\n",
    "def print_recommendations(df, model, input_movie, amount):\n",
    "    \n",
    "    dist, ind = model.kneighbors(input_movie, amount)\n",
    "\n",
    "    \n",
    "    dist = dist.tolist()[0]\n",
    "    ind = ind.tolist()[0]\n",
    "        \n",
    "    for i, el in enumerate(ind):\n",
    "        print(df.loc[el][\"tconst\"] + \": \" + df.loc[el][\"primaryTitle\"] + \"  :  \" + str(dist[i]))\n",
    "        \n",
    "    return\n",
    "\n",
    "\n",
    "def get_movie_id(movieName):\n",
    "    \n",
    "    df = pd.read_csv(\"../wth_actors_name/data/main_movie.csv\")\n",
    "    \n",
    "    return list(df[df[\"primaryTitle\"] == movieName][\"tconst\"])[0]\n",
    "\n",
    "def get_movie_index(df, movieName):\n",
    "    \n",
    "    return df[df[\"primaryTitle\"] == movieName].index[0]"
   ]
  },
  {
   "cell_type": "markdown",
   "id": "intensive-running",
   "metadata": {},
   "source": [
    "**MODEL 1**:<br>\n",
    "Features: Genres, Directors"
   ]
  },
  {
   "cell_type": "code",
   "execution_count": 90,
   "id": "forward-least",
   "metadata": {},
   "outputs": [],
   "source": [
    "ohe_df_scaled = pd.read_csv(\"../wth_actors_name/data/ohe_df_scaled.csv\").drop(columns=[\"Unnamed: 0\", \"oscarsNom\", \"goldenGlobesWon\", \"goldenGlobesNom\"])"
   ]
  },
  {
   "cell_type": "code",
   "execution_count": 278,
   "id": "genuine-snapshot",
   "metadata": {},
   "outputs": [],
   "source": [
    "movie_name = \"Iron Man\""
   ]
  },
  {
   "cell_type": "code",
   "execution_count": 279,
   "id": "sixth-research",
   "metadata": {},
   "outputs": [],
   "source": [
    "movie_index = get_movie_index(df_1, movie_name)"
   ]
  },
  {
   "cell_type": "code",
   "execution_count": 280,
   "id": "beneficial-negative",
   "metadata": {},
   "outputs": [],
   "source": [
    "df_1 = select_features(ohe_df_scaled, [\"genres\", \"directors\", \"countries\"])\n",
    "X_1 = df_1.drop(columns=[\"tconst\", \"primaryTitle\"])"
   ]
  },
  {
   "cell_type": "code",
   "execution_count": 281,
   "id": "universal-union",
   "metadata": {},
   "outputs": [
    {
     "data": {
      "text/plain": [
       "NearestNeighbors()"
      ]
     },
     "execution_count": 281,
     "metadata": {},
     "output_type": "execute_result"
    }
   ],
   "source": [
    "model_1 = NearestNeighbors()\n",
    "model_1.fit(X_1)"
   ]
  },
  {
   "cell_type": "code",
   "execution_count": 282,
   "id": "involved-harmony",
   "metadata": {},
   "outputs": [],
   "source": [
    "distance, index = model_1.kneighbors(X_1.loc[[movie_index]], X_1.shape[0])\n",
    "\n",
    "distance = distance.tolist()[0]\n",
    "index = index.tolist()[0]\n",
    "\n",
    "chosen_ones = []\n",
    "last_dist = distance[100]\n",
    "\n",
    "for i, dist in enumerate(distance):\n",
    "    \n",
    "    if dist > last_dist: break\n",
    "    chosen_ones.append(index[i])\n",
    "    "
   ]
  },
  {
   "cell_type": "code",
   "execution_count": 283,
   "id": "possible-remainder",
   "metadata": {},
   "outputs": [
    {
     "data": {
      "text/plain": [
       "115"
      ]
     },
     "execution_count": 283,
     "metadata": {},
     "output_type": "execute_result"
    }
   ],
   "source": [
    "len(chosen_ones)"
   ]
  },
  {
   "cell_type": "code",
   "execution_count": 284,
   "id": "little-cattle",
   "metadata": {},
   "outputs": [
    {
     "name": "stdout",
     "output_type": "stream",
     "text": [
      "tt0371746: Iron Man  :  0.0\n",
      "tt1228705: Iron Man 2  :  1.0\n",
      "tt1631867: Edge of Tomorrow  :  1.4142135623730951\n",
      "tt0290334: X2: X-Men United  :  1.4142135623730951\n",
      "tt1825683: Black Panther  :  1.7320508075688772\n",
      "tt0102975: Star Trek VI: The Undiscovered Country  :  1.7320508075688772\n",
      "tt0084726: Star Trek II: The Wrath of Khan  :  1.7320508075688772\n",
      "tt0120201: Starship Troopers  :  1.7320508075688772\n",
      "tt0848228: The Avengers  :  1.7320508075688772\n",
      "tt3748528: Rogue One: A Star Wars Story  :  1.7320508075688772\n",
      "tt1408101: Star Trek Into Darkness  :  1.7320508075688772\n",
      "tt1392170: The Hunger Games  :  1.7320508075688772\n",
      "tt1877832: X-Men: Days of Future Past  :  1.7320508075688772\n",
      "tt0120903: X-Men  :  1.7320508075688772\n",
      "tt0145487: Spider-Man  :  1.7320508075688772\n",
      "tt0316654: Spider-Man 2  :  1.7320508075688772\n",
      "tt0437086: Alita: Battle Angel  :  1.7320508075688772\n",
      "tt0107290: Jurassic Park  :  1.7320508075688772\n",
      "tt2395427: Avengers: Age of Ultron  :  1.7320508075688772\n",
      "tt2250912: Spider-Man: Homecoming  :  1.7320508075688772\n",
      "tt0082340: Escape from New York  :  1.7320508075688772\n",
      "tt0379786: Serenity  :  1.7320508075688772\n",
      "tt0369610: Jurassic World  :  1.7320508075688772\n",
      "tt0116629: Independence Day  :  1.7320508075688772\n",
      "tt1300854: Iron Man 3  :  1.7320508075688772\n",
      "tt2488496: Star Wars: Episode VII - The Force Awakens  :  1.7320508075688772\n",
      "tt6320628: Spider-Man: Far from Home  :  1.7320508075688772\n",
      "tt0418279: Transformers  :  1.7320508075688772\n",
      "tt5463162: Deadpool 2  :  2.0\n",
      "tt1843866: Captain America: The Winter Soldier  :  2.0\n",
      "tt0090605: Aliens  :  2.0\n",
      "tt0796366: Star Trek  :  2.0\n",
      "tt1375666: Inception  :  2.0\n",
      "tt3498820: Captain America: Civil War  :  2.0\n",
      "tt1270798: X-Men: First Class  :  2.0\n",
      "tt0770828: Man of Steel  :  2.0\n",
      "tt1677720: Ready Player One  :  2.0\n",
      "tt0083944: First Blood  :  2.0\n",
      "tt4154756: Avengers: Infinity War  :  2.0\n",
      "tt2660888: Star Trek Beyond  :  2.0\n",
      "tt0409847: Cowboys & Aliens  :  2.0\n",
      "tt0093773: Predator  :  2.0\n",
      "tt0111282: Stargate  :  2.0\n",
      "tt0082971: Indiana Jones and the Raiders of the Lost Ark  :  2.23606797749979\n",
      "tt3892172: Leave No Trace  :  2.23606797749979\n",
      "tt0120891: Wild Wild West  :  2.23606797749979\n",
      "tt0088247: The Terminator  :  2.23606797749979\n",
      "tt0816692: Interstellar  :  2.23606797749979\n",
      "tt2479478: The Ridiculous 6  :  2.23606797749979\n",
      "tt0088763: Back to the Future  :  2.23606797749979\n",
      "tt1211837: Doctor Strange  :  2.23606797749979\n",
      "tt1060277: Cloverfield  :  2.23606797749979\n",
      "tt0099810: The Hunt for Red October  :  2.23606797749979\n",
      "tt0129167: The Iron Giant  :  2.23606797749979\n",
      "tt0383574: Pirates of the Caribbean: Dead Man's Chest  :  2.23606797749979\n",
      "tt0362270: The Life Aquatic with Steve Zissou  :  2.23606797749979\n",
      "tt0096895: Batman  :  2.23606797749979\n",
      "tt0133093: The Matrix  :  2.23606797749979\n",
      "tt0083658: Blade Runner  :  2.23606797749979\n",
      "tt2883512: Chef  :  2.23606797749979\n",
      "tt0089941: Runaway Train  :  2.23606797749979\n",
      "tt0087469: Indiana Jones and the Temple of Doom  :  2.23606797749979\n",
      "tt1431045: Deadpool  :  2.23606797749979\n",
      "tt0103064: Terminator 2: Judgment Day  :  2.23606797749979\n",
      "tt0090728: Big Trouble in Little China  :  2.23606797749979\n",
      "tt2015381: Guardians of the Galaxy  :  2.23606797749979\n",
      "tt3315342: Logan  :  2.23606797749979\n",
      "tt0121766: Star Wars: Episode III - Revenge of the Sith  :  2.23606797749979\n",
      "tt0117500: The Rock  :  2.23606797749979\n",
      "tt1345836: The Dark Knight Rises  :  2.23606797749979\n",
      "tt0096256: They Live  :  2.23606797749979\n",
      "tt0096446: Willow  :  2.23606797749979\n",
      "tt1392190: Mad Max: Fury Road  :  2.23606797749979\n",
      "tt0317705: The Incredibles  :  2.23606797749979\n",
      "tt0097576: Indiana Jones and the Last Crusade  :  2.23606797749979\n",
      "tt0372784: Batman Begins  :  2.23606797749979\n",
      "tt0325980: Pirates of the Caribbean: The Curse of the Black Pearl  :  2.23606797749979\n",
      "tt0238380: Equilibrium  :  2.23606797749979\n",
      "tt1210819: The Lone Ranger  :  2.23606797749979\n",
      "tt0119116: The Fifth Element  :  2.23606797749979\n",
      "tt0104691: The Last of the Mohicans  :  2.23606797749979\n",
      "tt3896198: Guardians of the Galaxy Vol. 2  :  2.23606797749979\n",
      "tt3606756: Incredibles 2  :  2.23606797749979\n",
      "tt2103281: Dawn of the Planet of the Apes  :  2.23606797749979\n",
      "tt5095030: Ant-Man and the Wasp  :  2.23606797749979\n",
      "tt0117731: Star Trek: First Contact  :  2.23606797749979\n",
      "tt0112864: Die Hard with a Vengeance  :  2.23606797749979\n",
      "tt1446192: Rise of the Guardians  :  2.23606797749979\n",
      "tt1446192: Rise of the Guardians  :  2.23606797749979\n",
      "tt0120611: Blade  :  2.23606797749979\n",
      "tt0094012: Spaceballs  :  2.23606797749979\n",
      "tt0086567: WarGames  :  2.23606797749979\n",
      "tt2527336: Star Wars: Episode VIII - The Last Jedi  :  2.23606797749979\n",
      "tt0093870: RoboCop  :  2.23606797749979\n",
      "tt0311113: Master and Commander: The Far Side of the World  :  2.23606797749979\n",
      "tt1648190: The Dark Tower  :  2.23606797749979\n",
      "tt0234215: The Matrix Reloaded  :  2.23606797749979\n",
      "tt0092007: Star Trek IV: The Voyage Home  :  2.23606797749979\n",
      "tt1951264: The Hunger Games: Catching Fire  :  2.23606797749979\n",
      "tt0082694: The Road Warrior  :  2.23606797749979\n",
      "tt0070909: Westworld  :  2.23606797749979\n",
      "tt0110478: Maverick  :  2.23606797749979\n",
      "tt3450958: War for the Planet of the Apes  :  2.23606797749979\n",
      "tt0080455: The Blues Brothers  :  2.23606797749979\n",
      "tt1229238: Mission: Impossible - Ghost Protocol  :  2.23606797749979\n",
      "tt1646971: How to Train Your Dragon 2  :  2.23606797749979\n",
      "tt0099088: Back to the Future Part III  :  2.23606797749979\n",
      "tt0499549: Avatar  :  2.23606797749979\n",
      "tt0478970: Ant-Man  :  2.23606797749979\n",
      "tt0177789: Galaxy Quest  :  2.23606797749979\n",
      "tt0096874: Back to the Future Part II  :  2.23606797749979\n",
      "tt0119654: Men in Black  :  2.23606797749979\n",
      "tt0119094: Face/Off  :  2.23606797749979\n",
      "tt0480249: I Am Legend  :  2.23606797749979\n",
      "tt0111257: Speed  :  2.23606797749979\n"
     ]
    }
   ],
   "source": [
    "print_recommendations(df_1, model_1, X_1.loc[[movie_index]], len(chosen_ones))"
   ]
  },
  {
   "cell_type": "code",
   "execution_count": 285,
   "id": "returning-qatar",
   "metadata": {},
   "outputs": [],
   "source": [
    "first_filter = pd.DataFrame()\n",
    "\n",
    "for movie in chosen_ones:\n",
    "    \n",
    "    first_filter = first_filter.append(ohe_df_scaled.loc[[movie]])\n",
    "    \n",
    "first_filter.reset_index(inplace=True)"
   ]
  },
  {
   "cell_type": "markdown",
   "id": "environmental-daniel",
   "metadata": {},
   "source": [
    "**MODEL 2:**<br>\n",
    "Features: Writers, startYear, numVotes, averageRating"
   ]
  },
  {
   "cell_type": "code",
   "execution_count": 286,
   "id": "fixed-lebanon",
   "metadata": {},
   "outputs": [
    {
     "data": {
      "text/html": [
       "<div>\n",
       "<style scoped>\n",
       "    .dataframe tbody tr th:only-of-type {\n",
       "        vertical-align: middle;\n",
       "    }\n",
       "\n",
       "    .dataframe tbody tr th {\n",
       "        vertical-align: top;\n",
       "    }\n",
       "\n",
       "    .dataframe thead th {\n",
       "        text-align: right;\n",
       "    }\n",
       "</style>\n",
       "<table border=\"1\" class=\"dataframe\">\n",
       "  <thead>\n",
       "    <tr style=\"text-align: right;\">\n",
       "      <th></th>\n",
       "      <th>index</th>\n",
       "      <th>tconst</th>\n",
       "      <th>primaryTitle</th>\n",
       "      <th>startYear</th>\n",
       "      <th>runtimeMinutes</th>\n",
       "      <th>averageRating</th>\n",
       "      <th>numVotes</th>\n",
       "      <th>worldwideGross</th>\n",
       "      <th>oscarsWon</th>\n",
       "      <th>totalWins</th>\n",
       "      <th>...</th>\n",
       "      <th>language_turkish</th>\n",
       "      <th>language_ukrainian</th>\n",
       "      <th>language_ungwatsi</th>\n",
       "      <th>language_urdu</th>\n",
       "      <th>language_vietnamese</th>\n",
       "      <th>language_wolof</th>\n",
       "      <th>language_xhosa</th>\n",
       "      <th>language_yiddish</th>\n",
       "      <th>language_yoruba</th>\n",
       "      <th>language_zulu</th>\n",
       "    </tr>\n",
       "  </thead>\n",
       "  <tbody>\n",
       "    <tr>\n",
       "      <th>0</th>\n",
       "      <td>81</td>\n",
       "      <td>tt0371746</td>\n",
       "      <td>Iron Man</td>\n",
       "      <td>0.76</td>\n",
       "      <td>0.290909</td>\n",
       "      <td>0.820513</td>\n",
       "      <td>0.400818</td>\n",
       "      <td>0.209377</td>\n",
       "      <td>0.000000</td>\n",
       "      <td>0.074324</td>\n",
       "      <td>...</td>\n",
       "      <td>0.0</td>\n",
       "      <td>0.0</td>\n",
       "      <td>0.0</td>\n",
       "      <td>1.0</td>\n",
       "      <td>0.0</td>\n",
       "      <td>0.0</td>\n",
       "      <td>0.0</td>\n",
       "      <td>0.0</td>\n",
       "      <td>0.0</td>\n",
       "      <td>0.0</td>\n",
       "    </tr>\n",
       "    <tr>\n",
       "      <th>1</th>\n",
       "      <td>940</td>\n",
       "      <td>tt1228705</td>\n",
       "      <td>Iron Man 2</td>\n",
       "      <td>0.80</td>\n",
       "      <td>0.283636</td>\n",
       "      <td>0.705128</td>\n",
       "      <td>0.308308</td>\n",
       "      <td>0.223008</td>\n",
       "      <td>0.000000</td>\n",
       "      <td>0.023649</td>\n",
       "      <td>...</td>\n",
       "      <td>0.0</td>\n",
       "      <td>0.0</td>\n",
       "      <td>0.0</td>\n",
       "      <td>0.0</td>\n",
       "      <td>0.0</td>\n",
       "      <td>0.0</td>\n",
       "      <td>0.0</td>\n",
       "      <td>0.0</td>\n",
       "      <td>0.0</td>\n",
       "      <td>0.0</td>\n",
       "    </tr>\n",
       "    <tr>\n",
       "      <th>2</th>\n",
       "      <td>857</td>\n",
       "      <td>tt0290334</td>\n",
       "      <td>X2: X-Men United</td>\n",
       "      <td>0.66</td>\n",
       "      <td>0.320000</td>\n",
       "      <td>0.756410</td>\n",
       "      <td>0.217917</td>\n",
       "      <td>0.145725</td>\n",
       "      <td>0.000000</td>\n",
       "      <td>0.020270</td>\n",
       "      <td>...</td>\n",
       "      <td>0.0</td>\n",
       "      <td>0.0</td>\n",
       "      <td>0.0</td>\n",
       "      <td>0.0</td>\n",
       "      <td>0.0</td>\n",
       "      <td>0.0</td>\n",
       "      <td>0.0</td>\n",
       "      <td>0.0</td>\n",
       "      <td>0.0</td>\n",
       "      <td>0.0</td>\n",
       "    </tr>\n",
       "    <tr>\n",
       "      <th>3</th>\n",
       "      <td>77</td>\n",
       "      <td>tt1631867</td>\n",
       "      <td>Edge of Tomorrow</td>\n",
       "      <td>0.88</td>\n",
       "      <td>0.243636</td>\n",
       "      <td>0.820513</td>\n",
       "      <td>0.255819</td>\n",
       "      <td>0.132440</td>\n",
       "      <td>0.000000</td>\n",
       "      <td>0.037162</td>\n",
       "      <td>...</td>\n",
       "      <td>0.0</td>\n",
       "      <td>0.0</td>\n",
       "      <td>0.0</td>\n",
       "      <td>0.0</td>\n",
       "      <td>0.0</td>\n",
       "      <td>0.0</td>\n",
       "      <td>0.0</td>\n",
       "      <td>0.0</td>\n",
       "      <td>0.0</td>\n",
       "      <td>0.0</td>\n",
       "    </tr>\n",
       "    <tr>\n",
       "      <th>4</th>\n",
       "      <td>897</td>\n",
       "      <td>tt0102975</td>\n",
       "      <td>Star Trek VI: The Undiscovered Country</td>\n",
       "      <td>0.42</td>\n",
       "      <td>0.232727</td>\n",
       "      <td>0.730769</td>\n",
       "      <td>0.030027</td>\n",
       "      <td>0.034630</td>\n",
       "      <td>0.000000</td>\n",
       "      <td>0.006757</td>\n",
       "      <td>...</td>\n",
       "      <td>0.0</td>\n",
       "      <td>0.0</td>\n",
       "      <td>0.0</td>\n",
       "      <td>0.0</td>\n",
       "      <td>0.0</td>\n",
       "      <td>0.0</td>\n",
       "      <td>0.0</td>\n",
       "      <td>0.0</td>\n",
       "      <td>0.0</td>\n",
       "      <td>0.0</td>\n",
       "    </tr>\n",
       "    <tr>\n",
       "      <th>5</th>\n",
       "      <td>871</td>\n",
       "      <td>tt0316654</td>\n",
       "      <td>Spider-Man 2</td>\n",
       "      <td>0.68</td>\n",
       "      <td>0.294545</td>\n",
       "      <td>0.743590</td>\n",
       "      <td>0.231871</td>\n",
       "      <td>0.281999</td>\n",
       "      <td>0.090909</td>\n",
       "      <td>0.081081</td>\n",
       "      <td>...</td>\n",
       "      <td>0.0</td>\n",
       "      <td>0.0</td>\n",
       "      <td>0.0</td>\n",
       "      <td>0.0</td>\n",
       "      <td>0.0</td>\n",
       "      <td>0.0</td>\n",
       "      <td>0.0</td>\n",
       "      <td>0.0</td>\n",
       "      <td>0.0</td>\n",
       "      <td>0.0</td>\n",
       "    </tr>\n",
       "    <tr>\n",
       "      <th>6</th>\n",
       "      <td>875</td>\n",
       "      <td>tt0145487</td>\n",
       "      <td>Spider-Man</td>\n",
       "      <td>0.64</td>\n",
       "      <td>0.272727</td>\n",
       "      <td>0.743590</td>\n",
       "      <td>0.293080</td>\n",
       "      <td>0.294883</td>\n",
       "      <td>0.000000</td>\n",
       "      <td>0.054054</td>\n",
       "      <td>...</td>\n",
       "      <td>0.0</td>\n",
       "      <td>0.0</td>\n",
       "      <td>0.0</td>\n",
       "      <td>0.0</td>\n",
       "      <td>0.0</td>\n",
       "      <td>0.0</td>\n",
       "      <td>0.0</td>\n",
       "      <td>0.0</td>\n",
       "      <td>0.0</td>\n",
       "      <td>0.0</td>\n",
       "    </tr>\n",
       "    <tr>\n",
       "      <th>7</th>\n",
       "      <td>867</td>\n",
       "      <td>tt1825683</td>\n",
       "      <td>Black Panther</td>\n",
       "      <td>0.96</td>\n",
       "      <td>0.320000</td>\n",
       "      <td>0.743590</td>\n",
       "      <td>0.267517</td>\n",
       "      <td>0.481663</td>\n",
       "      <td>0.272727</td>\n",
       "      <td>0.371622</td>\n",
       "      <td>...</td>\n",
       "      <td>0.0</td>\n",
       "      <td>0.0</td>\n",
       "      <td>0.0</td>\n",
       "      <td>0.0</td>\n",
       "      <td>0.0</td>\n",
       "      <td>0.0</td>\n",
       "      <td>1.0</td>\n",
       "      <td>0.0</td>\n",
       "      <td>0.0</td>\n",
       "      <td>0.0</td>\n",
       "    </tr>\n",
       "  </tbody>\n",
       "</table>\n",
       "<p>8 rows × 11414 columns</p>\n",
       "</div>"
      ],
      "text/plain": [
       "   index     tconst                            primaryTitle  startYear  \\\n",
       "0     81  tt0371746                                Iron Man       0.76   \n",
       "1    940  tt1228705                              Iron Man 2       0.80   \n",
       "2    857  tt0290334                        X2: X-Men United       0.66   \n",
       "3     77  tt1631867                        Edge of Tomorrow       0.88   \n",
       "4    897  tt0102975  Star Trek VI: The Undiscovered Country       0.42   \n",
       "5    871  tt0316654                            Spider-Man 2       0.68   \n",
       "6    875  tt0145487                              Spider-Man       0.64   \n",
       "7    867  tt1825683                           Black Panther       0.96   \n",
       "\n",
       "   runtimeMinutes  averageRating  numVotes  worldwideGross  oscarsWon  \\\n",
       "0        0.290909       0.820513  0.400818        0.209377   0.000000   \n",
       "1        0.283636       0.705128  0.308308        0.223008   0.000000   \n",
       "2        0.320000       0.756410  0.217917        0.145725   0.000000   \n",
       "3        0.243636       0.820513  0.255819        0.132440   0.000000   \n",
       "4        0.232727       0.730769  0.030027        0.034630   0.000000   \n",
       "5        0.294545       0.743590  0.231871        0.281999   0.090909   \n",
       "6        0.272727       0.743590  0.293080        0.294883   0.000000   \n",
       "7        0.320000       0.743590  0.267517        0.481663   0.272727   \n",
       "\n",
       "   totalWins  ...  language_turkish  language_ukrainian  language_ungwatsi  \\\n",
       "0   0.074324  ...               0.0                 0.0                0.0   \n",
       "1   0.023649  ...               0.0                 0.0                0.0   \n",
       "2   0.020270  ...               0.0                 0.0                0.0   \n",
       "3   0.037162  ...               0.0                 0.0                0.0   \n",
       "4   0.006757  ...               0.0                 0.0                0.0   \n",
       "5   0.081081  ...               0.0                 0.0                0.0   \n",
       "6   0.054054  ...               0.0                 0.0                0.0   \n",
       "7   0.371622  ...               0.0                 0.0                0.0   \n",
       "\n",
       "   language_urdu  language_vietnamese  language_wolof  language_xhosa  \\\n",
       "0            1.0                  0.0             0.0             0.0   \n",
       "1            0.0                  0.0             0.0             0.0   \n",
       "2            0.0                  0.0             0.0             0.0   \n",
       "3            0.0                  0.0             0.0             0.0   \n",
       "4            0.0                  0.0             0.0             0.0   \n",
       "5            0.0                  0.0             0.0             0.0   \n",
       "6            0.0                  0.0             0.0             0.0   \n",
       "7            0.0                  0.0             0.0             1.0   \n",
       "\n",
       "   language_yiddish  language_yoruba  language_zulu  \n",
       "0               0.0              0.0            0.0  \n",
       "1               0.0              0.0            0.0  \n",
       "2               0.0              0.0            0.0  \n",
       "3               0.0              0.0            0.0  \n",
       "4               0.0              0.0            0.0  \n",
       "5               0.0              0.0            0.0  \n",
       "6               0.0              0.0            0.0  \n",
       "7               0.0              0.0            0.0  \n",
       "\n",
       "[8 rows x 11414 columns]"
      ]
     },
     "execution_count": 286,
     "metadata": {},
     "output_type": "execute_result"
    }
   ],
   "source": [
    "first_filter.head(8)"
   ]
  },
  {
   "cell_type": "code",
   "execution_count": 287,
   "id": "introductory-forum",
   "metadata": {},
   "outputs": [],
   "source": [
    "df_2 = select_features(first_filter, [\"tconst\", \"primaryTitle\", \"genres\", \"actors\", \"directors\", \"writers\", \"numVotes\", \"averageRating\",])\n",
    "X_2 = df_2.drop(columns=[\"tconst\", \"primaryTitle\"])"
   ]
  },
  {
   "cell_type": "code",
   "execution_count": 288,
   "id": "turned-kentucky",
   "metadata": {},
   "outputs": [],
   "source": [
    "movie_index = get_movie_index(df_2, movie_name)"
   ]
  },
  {
   "cell_type": "code",
   "execution_count": 289,
   "id": "secondary-alias",
   "metadata": {},
   "outputs": [
    {
     "data": {
      "text/plain": [
       "NearestNeighbors()"
      ]
     },
     "execution_count": 289,
     "metadata": {},
     "output_type": "execute_result"
    }
   ],
   "source": [
    "model_2 = NearestNeighbors()\n",
    "model_2.fit(X_2)"
   ]
  },
  {
   "cell_type": "code",
   "execution_count": 290,
   "id": "twelve-connectivity",
   "metadata": {},
   "outputs": [],
   "source": [
    "distance, index = model_2.kneighbors(X_2.loc[[movie_index]], X_2.shape[0])\n",
    "\n",
    "distance = distance.tolist()[0]\n",
    "index = index.tolist()[0]"
   ]
  },
  {
   "cell_type": "code",
   "execution_count": 291,
   "id": "protecting-subscription",
   "metadata": {},
   "outputs": [],
   "source": [
    "chosen_ones = []\n",
    "last_dist = distance[30]\n",
    "\n",
    "for i, dist in enumerate(distance):\n",
    "    \n",
    "    if dist > last_dist: break\n",
    "    chosen_ones.append(index[i])\n",
    "    "
   ]
  },
  {
   "cell_type": "code",
   "execution_count": 292,
   "id": "ranking-locator",
   "metadata": {},
   "outputs": [
    {
     "data": {
      "text/plain": [
       "31"
      ]
     },
     "execution_count": 292,
     "metadata": {},
     "output_type": "execute_result"
    }
   ],
   "source": [
    "len(chosen_ones)"
   ]
  },
  {
   "cell_type": "code",
   "execution_count": 293,
   "id": "third-adjustment",
   "metadata": {},
   "outputs": [
    {
     "name": "stdout",
     "output_type": "stream",
     "text": [
      "tt0371746: Iron Man  :  0.0\n",
      "tt1228705: Iron Man 2  :  4.361407066084062\n",
      "tt1300854: Iron Man 3  :  5.100654902860778\n",
      "tt0848228: The Avengers  :  5.293274316911743\n",
      "tt2395427: Avengers: Age of Ultron  :  5.386352578044009\n",
      "tt1825683: Black Panther  :  5.4793873825905814\n",
      "tt1877832: X-Men: Days of Future Past  :  5.569049032575962\n",
      "tt0145487: Spider-Man  :  5.569337885249515\n",
      "tt0379786: Serenity  :  5.5748315385806215\n",
      "tt2883512: Chef  :  5.5773064920927435\n",
      "tt1375666: Inception  :  5.5897630743564415\n",
      "tt0107290: Jurassic Park  :  5.656995776693403\n",
      "tt2250912: Spider-Man: Homecoming  :  5.660117107571811\n",
      "tt0116629: Independence Day  :  5.660771853633505\n",
      "tt0119116: The Fifth Element  :  5.661029983379471\n",
      "tt0093773: Predator  :  5.662066124644245\n",
      "tt1677720: Ready Player One  :  5.662296955382175\n",
      "tt6320628: Spider-Man: Far from Home  :  5.663113422336069\n",
      "tt0120201: Starship Troopers  :  5.664797141736027\n",
      "tt0111282: Stargate  :  5.667180930053253\n",
      "tt0082340: Escape from New York  :  5.668185855818586\n",
      "tt1392190: Mad Max: Fury Road  :  5.744671119894566\n",
      "tt0499549: Avatar  :  5.7450745784187545\n",
      "tt4154756: Avengers: Infinity War  :  5.74507806881718\n",
      "tt0103064: Terminator 2: Judgment Day  :  5.745125391072085\n",
      "tt1392170: The Hunger Games  :  5.7454114174969755\n",
      "tt0121766: Star Wars: Episode III - Revenge of the Sith  :  5.745610075221169\n",
      "tt3498820: Captain America: Civil War  :  5.745770657053622\n",
      "tt0317705: The Incredibles  :  5.745847450368777\n",
      "tt0796366: Star Trek  :  5.746662361496443\n"
     ]
    }
   ],
   "source": [
    "print_recommendations(df_2, model_2, X_2.loc[[movie_index]], 30)"
   ]
  },
  {
   "cell_type": "markdown",
   "id": "functioning-happiness",
   "metadata": {},
   "source": [
    "PROBLEM: Movies with less information can be more similar than movies with more. Movies with more information have more opportunities to be different than movies with little information, where everything that is missing is filled with 0.\n",
    "\n",
    "A good example of this is: [\"tt5317732\", \"The Little Prince\"]"
   ]
  },
  {
   "cell_type": "markdown",
   "id": "chemical-spanish",
   "metadata": {},
   "source": [
    "**For better recommendations, we need more movies in the database. In the case of \"The Dark Knight\", after 5 movies there are already only 2 things in common**"
   ]
  }
 ],
 "metadata": {
  "kernelspec": {
   "display_name": "Python 3",
   "language": "python",
   "name": "python3"
  },
  "language_info": {
   "codemirror_mode": {
    "name": "ipython",
    "version": 3
   },
   "file_extension": ".py",
   "mimetype": "text/x-python",
   "name": "python",
   "nbconvert_exporter": "python",
   "pygments_lexer": "ipython3",
   "version": "3.8.6"
  }
 },
 "nbformat": 4,
 "nbformat_minor": 5
}
