{
 "cells": [
  {
   "cell_type": "code",
   "execution_count": null,
   "id": "diagnostic-japan",
   "metadata": {},
   "outputs": [],
   "source": [
    "import toolbox as tb\n",
    "import pandas as pd\n",
    "import numpy as np\n",
    "from sklearn.neighbors import NearestNeighbors"
   ]
  },
  {
   "cell_type": "code",
   "execution_count": null,
   "id": "constant-angola",
   "metadata": {},
   "outputs": [],
   "source": [
    "movies_df = pd.read_csv(\"../wth_actors_name/data/main_movie.csv\").drop(columns=\"Unnamed: 0\")"
   ]
  },
  {
   "cell_type": "code",
   "execution_count": null,
   "id": "higher-amino",
   "metadata": {},
   "outputs": [],
   "source": [
    "movies_df = movies_df.drop(columns=[\"titleType\", \"endYear\", \"originalTitle\", \"awards\", \"budget\", \"isAdult\"])"
   ]
  },
  {
   "cell_type": "markdown",
   "id": "express-scottish",
   "metadata": {},
   "source": [
    "### Dealing with NaN and converting to numerical dtypes"
   ]
  },
  {
   "cell_type": "code",
   "execution_count": null,
   "id": "beginning-sterling",
   "metadata": {},
   "outputs": [],
   "source": [
    "# Dealing with NaN values\n",
    "movies_df = movies_df[movies_df[\"numVotes\"].notnull()]\n",
    "movies_df = movies_df[movies_df[\"runtimeMinutes\"] != \"\\\\N\"]\n",
    "movies_df[\"totalNoms\"] = movies_df[\"totalNoms\"].fillna(0)"
   ]
  },
  {
   "cell_type": "code",
   "execution_count": null,
   "id": "magnetic-hobby",
   "metadata": {},
   "outputs": [],
   "source": [
    "# Converting to int or float dtypes\n",
    "movies_df[\"numVotes\"] = movies_df[\"numVotes\"].astype(int)\n",
    "\n",
    "movies_df[\"runtimeMinutes\"] = movies_df[\"runtimeMinutes\"].astype(int)\n",
    "\n",
    "movies_df[\"totalNoms\"] = movies_df[\"totalNoms\"].astype(int)\n",
    "\n",
    "\n",
    "wwg_list = list(movies_df[\"worldwideGross\"])\n",
    "\n",
    "for i, gross in enumerate(wwg_list):\n",
    "    \n",
    "    if type(gross) != float:\n",
    "        wwg_list[i] = int(gross.replace(\"$\", \"\").replace(\",\", \"\"))\n",
    "        \n",
    "movies_df[\"worldwideGross\"] = wwg_list\n",
    "\n",
    "wwg_median = movies_df[\"worldwideGross\"].median()\n",
    "\n",
    "movies_df[\"worldwideGross\"].fillna(wwg_median, inplace=True)\n",
    "\n",
    "movies_df[\"worldwideGross\"] = movies_df[\"worldwideGross\"].astype(int)\n",
    "\n",
    "movies_df.reset_index(inplace=True)\n",
    "movies_df.drop(columns=\"index\", inplace=True)"
   ]
  },
  {
   "cell_type": "markdown",
   "id": "framed-designation",
   "metadata": {},
   "source": [
    "### OneHotEncode all features non-numerical features"
   ]
  },
  {
   "cell_type": "code",
   "execution_count": null,
   "id": "authorized-district",
   "metadata": {},
   "outputs": [],
   "source": [
    "\"\"\"Converts columns which contain strings of values as elements, into OneHotEncod\"\"\"\n",
    "\n",
    "def create_features_ohe(df, column):\n",
    "    column_list = list(df[column])\n",
    "    \n",
    "    # Split values\n",
    "    for i, row in enumerate(column_list):\n",
    "        if type(row) != float:\n",
    "            column_list[i] = row.split(\",\")\n",
    "      \n",
    "    \n",
    "    # Create list of unique values\n",
    "    all_features = []\n",
    "    for row in column_list:\n",
    "        \n",
    "        if type(row) != float:\n",
    "            for feature in row:\n",
    "                if feature not in all_features:\n",
    "                    all_features.append(feature)\n",
    "            \n",
    "    all_features.sort()\n",
    "    \n",
    "    \n",
    "    # Create a column for each value in all_features\n",
    "    for feature in all_features:\n",
    "        df[f\"{column}_{feature.lower()}\"] = 0\n",
    "        \n",
    "    \n",
    "    # OneHotEncoding for each row\n",
    "    for i, row in enumerate(column_list):\n",
    "        \n",
    "        if type(row) != float:\n",
    "            for feature in row:\n",
    "\n",
    "                df.loc[i, f\"{column}_{feature.lower()}\"] = 1 \n",
    "\n",
    "    return"
   ]
  },
  {
   "cell_type": "markdown",
   "id": "aware-penetration",
   "metadata": {},
   "source": [
    "**Features to OneHotEncode:** \"genres\", \"directors\", \"actors\", \"writers\", \"country\", \"language\""
   ]
  },
  {
   "cell_type": "code",
   "execution_count": null,
   "id": "pharmaceutical-contamination",
   "metadata": {},
   "outputs": [],
   "source": [
    "create_features_ohe(movies_df, \"genres\")\n",
    "\n",
    "create_features_ohe(movies_df, \"directors\")\n",
    "\n",
    "create_features_ohe(movies_df, \"writers\")\n",
    "\n",
    "create_features_ohe(movies_df, \"actors\")\n",
    "\n",
    "create_features_ohe(movies_df, \"country\")\n",
    "\n",
    "create_features_ohe(movies_df, \"language\")"
   ]
  },
  {
   "cell_type": "code",
   "execution_count": null,
   "id": "frozen-mumbai",
   "metadata": {},
   "outputs": [],
   "source": [
    "movies_df = movies_df.drop(columns=[\"genres\", \"directors\", \"writers\", \"actors\", \"country\", \"language\"])"
   ]
  },
  {
   "cell_type": "code",
   "execution_count": null,
   "id": "fixed-heating",
   "metadata": {},
   "outputs": [],
   "source": [
    "movies_df.to_csv(\"../wth_actors_name/data/ohe_movie.csv\")"
   ]
  },
  {
   "cell_type": "markdown",
   "id": "opposed-london",
   "metadata": {},
   "source": [
    "## Feature Analysis"
   ]
  },
  {
   "cell_type": "code",
   "execution_count": null,
   "id": "utility-contract",
   "metadata": {},
   "outputs": [],
   "source": [
    "import matplotlib.pyplot as plt"
   ]
  },
  {
   "cell_type": "code",
   "execution_count": null,
   "id": "behavioral-sentence",
   "metadata": {},
   "outputs": [],
   "source": [
    "plt.boxplot(movies_df[\"startYear\"])\n",
    "plt.show()\n",
    "plt.hist(movies_df[\"startYear\"])\n",
    "plt.show()"
   ]
  },
  {
   "cell_type": "code",
   "execution_count": null,
   "id": "coupled-breach",
   "metadata": {
    "scrolled": false
   },
   "outputs": [],
   "source": [
    "plt.boxplot(movies_df[\"worldwideGross\"])\n",
    "plt.show()\n",
    "plt.hist(movies_df[\"worldwideGross\"])\n",
    "plt.show()"
   ]
  },
  {
   "cell_type": "code",
   "execution_count": null,
   "id": "communist-table",
   "metadata": {
    "scrolled": false
   },
   "outputs": [],
   "source": [
    "plt.boxplot(movies_df[\"numVotes\"])\n",
    "plt.show()\n",
    "plt.hist(movies_df[\"numVotes\"])\n",
    "plt.show"
   ]
  },
  {
   "cell_type": "code",
   "execution_count": null,
   "id": "hairy-highlight",
   "metadata": {},
   "outputs": [],
   "source": [
    "plt.boxplot(movies_df[\"runtimeMinutes\"])\n",
    "plt.show()\n",
    "plt.hist(movies_df[\"runtimeMinutes\"])\n",
    "plt.show()"
   ]
  },
  {
   "cell_type": "markdown",
   "id": "flexible-moment",
   "metadata": {},
   "source": [
    "### Feature scaling"
   ]
  },
  {
   "cell_type": "code",
   "execution_count": null,
   "id": "exterior-float",
   "metadata": {},
   "outputs": [],
   "source": [
    "from sklearn.preprocessing import MinMaxScaler, RobustScaler"
   ]
  },
  {
   "cell_type": "code",
   "execution_count": null,
   "id": "gentle-humor",
   "metadata": {},
   "outputs": [],
   "source": [
    "ohe_df = pd.read_csv(\"../wth_actors_name/data/ohe_movie.csv\").drop(columns=[\"Unnamed: 0\"])"
   ]
  },
  {
   "cell_type": "code",
   "execution_count": null,
   "id": "continuing-accident",
   "metadata": {},
   "outputs": [],
   "source": [
    "scaler = MinMaxScaler().fit(ohe_df[ohe_df.columns[2:]])\n",
    "ohe_df[ohe_df.columns[2:]] = scaler.transform(ohe_df[ohe_df.columns[2:]])"
   ]
  },
  {
   "cell_type": "code",
   "execution_count": null,
   "id": "front-candy",
   "metadata": {},
   "outputs": [],
   "source": [
    "ohe_df.to_csv(\"../wth_actors_name/data/ohe_df_scaled.csv\")"
   ]
  },
  {
   "cell_type": "markdown",
   "id": "driven-wilderness",
   "metadata": {},
   "source": [
    "**Note: Consider using multiple KNNs. You have to separate the datasets into movie-directors-genre, movie-writers-genre, movie-actors-genre and so forth. Maybe some extra features for each datasets.**"
   ]
  },
  {
   "cell_type": "markdown",
   "id": "stupid-rouge",
   "metadata": {},
   "source": [
    "**Consider bootstrapping models in order of importance of the features**"
   ]
  },
  {
   "cell_type": "markdown",
   "id": "smooth-semester",
   "metadata": {},
   "source": [
    "### KNN Model (Unsupervised)"
   ]
  },
  {
   "cell_type": "code",
   "execution_count": null,
   "id": "invalid-perfume",
   "metadata": {},
   "outputs": [],
   "source": [
    "ohe_df_scaled = pd.read_csv(\"../wth_actors_name/data/ohe_df_scaled.csv\").drop(columns=[\"Unnamed: 0\", \"oscarsNom\", \"goldenGlobesWon\", \"goldenGlobesNom\"])"
   ]
  },
  {
   "cell_type": "code",
   "execution_count": null,
   "id": "architectural-thermal",
   "metadata": {},
   "outputs": [],
   "source": [
    "X = ohe_df_scaled[ohe_df_scaled.columns[2:]]"
   ]
  },
  {
   "cell_type": "code",
   "execution_count": null,
   "id": "economic-partition",
   "metadata": {},
   "outputs": [],
   "source": [
    "nn_model = NearestNeighbors(n_neighbors=8)\n",
    "nn_model.fit(X)"
   ]
  },
  {
   "cell_type": "markdown",
   "id": "forced-kitchen",
   "metadata": {},
   "source": [
    "Movie Inputted:\n",
    "0 -> The Dark Knight"
   ]
  },
  {
   "cell_type": "code",
   "execution_count": null,
   "id": "wrapped-genesis",
   "metadata": {},
   "outputs": [],
   "source": [
    "ohe_df_scaled[ohe_df_scaled[\"primaryTitle\"] == \"The Dark Knight\" ]"
   ]
  },
  {
   "cell_type": "code",
   "execution_count": null,
   "id": "civilian-matthew",
   "metadata": {},
   "outputs": [],
   "source": [
    "nn_model.kneighbors(X.loc[[0]], 10)"
   ]
  },
  {
   "cell_type": "markdown",
   "id": "consecutive-bubble",
   "metadata": {},
   "source": [
    "**Recommendations:**<br>\n",
    "29 -> Batman Begins<br>\n",
    "18 -> The Dark Knight Rises<br>\n",
    "418 -> The Prestige<br>\n",
    "3 -> Inception<br>\n",
    "85 -> Interstellar<br>\n",
    "1040 -> Lucky Number Slevin<br>\n",
    "250 -> Anomalisa<br>\n",
    "26 -> Paan Singh Tomar<br>\n",
    "380 -> Se7en"
   ]
  },
  {
   "cell_type": "markdown",
   "id": "waiting-swift",
   "metadata": {},
   "source": [
    "Features order of importance:\n",
    "- 1. genre\n",
    "- 1. director\n",
    "- 1. actors\n"
   ]
  },
  {
   "cell_type": "markdown",
   "id": "logical-milan",
   "metadata": {},
   "source": [
    "Try bootstrapping with two models and check how good the results are."
   ]
  },
  {
   "cell_type": "markdown",
   "id": "medium-memphis",
   "metadata": {},
   "source": [
    "## Bootstrapping models"
   ]
  },
  {
   "cell_type": "code",
   "execution_count": 2,
   "id": "satisfactory-lawrence",
   "metadata": {},
   "outputs": [],
   "source": [
    "\"\"\"\n",
    "This function creates an ohe_df from the features that you select from the ohe_df\n",
    "\"\"\"\n",
    "\n",
    "def select_features(ohe_df, features):\n",
    "    \n",
    "    genres = []\n",
    "    writers = []\n",
    "    actors = []\n",
    "    countries = []\n",
    "    languages = []\n",
    "    directors = []\n",
    "    \n",
    "    columns = list(ohe_df.columns)\n",
    "    all_features = [\"tconst\", \"primaryTitle\"]\n",
    "    \n",
    "    if \"genres\" in features:\n",
    "        \n",
    "        for feat in columns:\n",
    "            if feat.find(\"genres\") != -1:\n",
    "                genres.append(feat)\n",
    "            \n",
    "    \n",
    "    if \"writers\" in features:\n",
    "        \n",
    "        for feat in columns:\n",
    "            if feat.find(\"writers\") != -1:\n",
    "                writers.append(feat)\n",
    "    \n",
    "    \n",
    "    if \"actors\" in features:\n",
    "        \n",
    "        for feat in columns:\n",
    "            if feat.find(\"actors\") != -1:\n",
    "                actors.append(feat)\n",
    "            \n",
    "            \n",
    "    if \"directors\" in features:\n",
    "        \n",
    "        for feat in columns:\n",
    "            if feat.find(\"directors\") != -1:\n",
    "                directors.append(feat)\n",
    "    \n",
    "    \n",
    "    if \"countries\" in features:\n",
    "        \n",
    "        for feat in columns:\n",
    "            if feat.find(\"country\") != -1:\n",
    "                countries.append(feat)\n",
    "                \n",
    "                    \n",
    "    if \"languages\" in features:\n",
    "        \n",
    "        for feat in columns:\n",
    "            if feat.find(\"languages\") != -1:\n",
    "                languages.append(feat)\n",
    "    \n",
    "    \n",
    "    if \"startYear\" in features:\n",
    "        all_features.append(\"startYear\")\n",
    "    \n",
    "    if \"runtimeMinutes\" in features:\n",
    "        all_features.append(\"runtimeMinutes\")\n",
    "        \n",
    "    if \"averageRating\" in features:\n",
    "        all_features.append(\"averageRating\")\n",
    "        \n",
    "    if \"numVotes\" in features:\n",
    "        all_features.append(\"numVotes\")\n",
    "        \n",
    "    if \"worldwideGross\" in features:\n",
    "        all_features.append(\"worldwideGross\")\n",
    "\n",
    "    if \"oscarsWon\" in features:\n",
    "        all_features.append(\"oscarsWon\")\n",
    "        \n",
    "    if \"totalWins\" in features:\n",
    "        all_features.append(\"totalWins\")\n",
    "        \n",
    "    if \"totalNoms\" in features:\n",
    "        all_features.append(\"totalNoms\")\n",
    "        \n",
    "    \n",
    "    all_features += genres + writers + actors + countries + languages + directors\n",
    "    \n",
    "    return ohe_df[all_features]\n",
    "\n",
    "\n",
    "def print_recommendations(df, model, input_movie, amount):\n",
    "    \n",
    "    dist, ind = model.kneighbors(input_movie, amount)\n",
    "\n",
    "    \n",
    "    dist = dist.tolist()[0]\n",
    "    ind = ind.tolist()[0]\n",
    "        \n",
    "    for i, el in enumerate(ind):\n",
    "        print(df.loc[el][\"tconst\"] + \": \" + df.loc[el][\"primaryTitle\"] + \"  :  \" + str(dist[i]))\n",
    "        \n",
    "    return\n",
    "\n",
    "\n",
    "def get_movie_id(movieName):\n",
    "    \n",
    "    df = pd.read_csv(\"../wth_actors_name/data/main_movie.csv\")\n",
    "    \n",
    "    return list(df[df[\"primaryTitle\"] == movieName][\"tconst\"])[0]\n",
    "\n",
    "def get_movie_index(df, movieName):\n",
    "    \n",
    "    return df[df[\"primaryTitle\"] == movieName].index[0]"
   ]
  },
  {
   "cell_type": "markdown",
   "id": "intensive-running",
   "metadata": {},
   "source": [
    "**MODEL 1**:<br>\n",
    "Features: Genres, Directors"
   ]
  },
  {
   "cell_type": "code",
   "execution_count": 8,
   "id": "forward-least",
   "metadata": {},
   "outputs": [],
   "source": [
    "ohe_df_scaled = pd.read_csv(\"../wth_actors_name/data/ohe_movie_scaled.csv\").drop(columns=[\"Unnamed: 0\", \"oscarsNom\", \"goldenGlobesWon\", \"goldenGlobesNom\"])"
   ]
  },
  {
   "cell_type": "code",
   "execution_count": 9,
   "id": "genuine-snapshot",
   "metadata": {},
   "outputs": [],
   "source": [
    "movie_name = \"Pulp Fiction\""
   ]
  },
  {
   "cell_type": "code",
   "execution_count": 10,
   "id": "beneficial-negative",
   "metadata": {},
   "outputs": [],
   "source": [
    "df_1 = select_features(ohe_df_scaled, [\"genres\", \"directors\", \"countries\"])\n",
    "X_1 = df_1.drop(columns=[\"tconst\", \"primaryTitle\"])"
   ]
  },
  {
   "cell_type": "code",
   "execution_count": 11,
   "id": "sixth-research",
   "metadata": {},
   "outputs": [],
   "source": [
    "movie_index = get_movie_index(df_1, movie_name)"
   ]
  },
  {
   "cell_type": "code",
   "execution_count": 12,
   "id": "universal-union",
   "metadata": {},
   "outputs": [
    {
     "data": {
      "text/plain": [
       "NearestNeighbors()"
      ]
     },
     "execution_count": 12,
     "metadata": {},
     "output_type": "execute_result"
    }
   ],
   "source": [
    "model_1 = NearestNeighbors()\n",
    "model_1.fit(X_1)"
   ]
  },
  {
   "cell_type": "code",
   "execution_count": 13,
   "id": "involved-harmony",
   "metadata": {},
   "outputs": [],
   "source": [
    "distance, index = model_1.kneighbors(X_1.loc[[movie_index]], X_1.shape[0])\n",
    "\n",
    "distance = distance.tolist()[0]\n",
    "index = index.tolist()[0]\n",
    "\n",
    "chosen_ones = []\n",
    "last_dist = distance[100]\n",
    "\n",
    "for i, dist in enumerate(distance):\n",
    "    \n",
    "    if dist > last_dist: break\n",
    "    chosen_ones.append(index[i])\n",
    "    "
   ]
  },
  {
   "cell_type": "code",
   "execution_count": 14,
   "id": "possible-remainder",
   "metadata": {},
   "outputs": [
    {
     "data": {
      "text/plain": [
       "132"
      ]
     },
     "execution_count": 14,
     "metadata": {},
     "output_type": "execute_result"
    }
   ],
   "source": [
    "len(chosen_ones)"
   ]
  },
  {
   "cell_type": "code",
   "execution_count": 15,
   "id": "little-cattle",
   "metadata": {},
   "outputs": [
    {
     "name": "stdout",
     "output_type": "stream",
     "text": [
      "tt0110912: Pulp Fiction  :  0.0\n",
      "tt0105236: Reservoir Dogs  :  1.0\n",
      "tt3460252: The Hateful Eight  :  1.0\n",
      "tt0086250: Scarface  :  1.4142135623730951\n",
      "tt0071562: The Godfather: Part II  :  1.4142135623730951\n",
      "tt1853728: Django Unchained  :  1.4142135623730951\n",
      "tt0266697: Kill Bill: Vol. 1  :  1.4142135623730951\n",
      "tt0075314: Taxi Driver  :  1.4142135623730951\n",
      "tt0106469: Blood In, Blood Out  :  1.4142135623730951\n",
      "tt0068646: The Godfather  :  1.4142135623730951\n",
      "tt0117381: Primal Fear  :  1.7320508075688772\n",
      "tt0085794: The King of Comedy  :  1.7320508075688772\n",
      "tt0405296: A Scanner Darkly  :  1.7320508075688772\n",
      "tt0114558: Strange Days  :  1.7320508075688772\n",
      "tt0410097: Hustle & Flow  :  1.7320508075688772\n",
      "tt0469494: There Will Be Blood  :  1.7320508075688772\n",
      "tt1990314: Robot & Frank  :  1.7320508075688772\n",
      "tt0094226: The Untouchables  :  1.7320508075688772\n",
      "tt0106519: Carlito's Way  :  1.7320508075688772\n",
      "tt0186151: Frequency  :  1.7320508075688772\n",
      "tt0443706: Zodiac  :  1.7320508075688772\n",
      "tt0169547: American Beauty  :  1.7320508075688772\n",
      "tt0072890: Dog Day Afternoon  :  1.7320508075688772\n",
      "tt0180093: Requiem for a Dream  :  1.7320508075688772\n",
      "tt0106977: The Fugitive  :  1.7320508075688772\n",
      "tt0119488: L.A. Confidential  :  1.7320508075688772\n",
      "tt0113277: Heat  :  1.7320508075688772\n",
      "tt0378194: Kill Bill: Vol. 2  :  1.7320508075688772\n",
      "tt0112641: Casino  :  1.7320508075688772\n",
      "tt0421206: Gridiron Gang  :  1.7320508075688772\n",
      "tt0120586: American History X  :  1.7320508075688772\n",
      "tt0099685: Goodfellas  :  1.7320508075688772\n",
      "tt1392214: Prisoners  :  1.7320508075688772\n",
      "tt0073486: One Flew Over the Cuckoo's Nest  :  1.7320508075688772\n",
      "tt0111161: The Shawshank Redemption  :  1.7320508075688772\n",
      "tt0993846: The Wolf of Wall Street  :  1.7320508075688772\n",
      "tt2872718: Nightcrawler  :  1.7320508075688772\n",
      "tt0104348: Glengarry Glen Ross  :  1.7320508075688772\n",
      "tt0112461: The Basketball Diaries  :  1.7320508075688772\n",
      "tt0087843: Once Upon a Time in America  :  1.7320508075688772\n",
      "tt0106489: A Bronx Tale  :  1.7320508075688772\n",
      "tt0119008: Donnie Brasco  :  1.7320508075688772\n",
      "tt0070735: The Sting  :  1.7320508075688772\n",
      "tt0824747: Changeling  :  1.7320508075688772\n",
      "tt0095647: Mississippi Burning  :  1.7320508075688772\n",
      "tt1302006: The Irishman  :  1.7320508075688772\n",
      "tt0074958: Network  :  1.7320508075688772\n",
      "tt8946378: Knives Out  :  1.7320508075688772\n",
      "tt0800308: Appaloosa  :  1.7320508075688772\n",
      "tt0090022: Silverado  :  1.7320508075688772\n",
      "tt0070334: The Long Goodbye  :  1.7320508075688772\n",
      "tt0070510: Paper Moon  :  1.7320508075688772\n",
      "tt0120689: The Green Mile  :  1.7320508075688772\n",
      "tt0452623: Gone Baby Gone  :  1.7320508075688772\n",
      "tt0454848: Inside Man  :  1.7320508075688772\n",
      "tt2334649: Fruitvale Station  :  1.7320508075688772\n",
      "tt0381849: 3:10 to Yuma  :  1.7320508075688772\n",
      "tt0114369: Se7en  :  1.7320508075688772\n",
      "tt0102926: The Silence of the Lambs  :  1.7320508075688772\n",
      "tt0802948: An American Crime  :  1.7320508075688772\n",
      "tt0070511: Papillon  :  2.0\n",
      "tt2582802: Whiplash  :  2.0\n",
      "tt0113862: Mr. Holland's Opus  :  2.0\n",
      "tt7286456: Joker  :  2.0\n",
      "tt0407887: The Departed  :  2.0\n",
      "tt0327056: Mystic River  :  2.0\n",
      "tt0790636: Dallas Buyers Club  :  2.0\n",
      "tt0089927: Rocky IV  :  2.0\n",
      "tt0765429: American Gangster  :  2.0\n",
      "tt0089767: Pale Rider  :  2.0\n",
      "tt5478478: Hostiles  :  2.0\n",
      "tt3553976: Captain Fantastic  :  2.0\n",
      "tt0099077: Awakenings  :  2.0\n",
      "tt0097216: Do the Right Thing  :  2.0\n",
      "tt0105046: Of Mice and Men  :  2.0\n",
      "tt2396589: Mudbound  :  2.0\n",
      "tt1365050: Beasts of No Nation  :  2.0\n",
      "tt0454921: The Pursuit of Happyness  :  2.0\n",
      "tt6343314: Creed II  :  2.0\n",
      "tt1172233: Whip It  :  2.0\n",
      "tt0110413: Léon: The Professional  :  2.0\n",
      "tt0758794: We Are Marshall  :  2.0\n",
      "tt0146838: Any Given Sunday  :  2.0\n",
      "tt0113247: La Haine  :  2.0\n",
      "tt0090863: The Color of Money  :  2.0\n",
      "tt0264464: Catch Me If You Can  :  2.0\n",
      "tt0079817: Rocky II  :  2.0\n",
      "tt0066921: A Clockwork Orange  :  2.0\n",
      "tt0124718: He Got Game  :  2.0\n",
      "tt0780536: In Bruges  :  2.0\n",
      "tt0947798: Black Swan  :  2.0\n",
      "tt0401792: Sin City  :  2.0\n",
      "tt0077416: The Deer Hunter  :  2.0\n",
      "tt0268978: A Beautiful Mind  :  2.0\n",
      "tt0097165: Dead Poets Society  :  2.0\n",
      "tt0075148: Rocky  :  2.0\n",
      "tt0462200: Black Snake Moan  :  2.0\n",
      "tt0105695: Unforgiven  :  2.0\n",
      "tt1205489: Gran Torino  :  2.0\n",
      "tt0405159: Million Dollar Baby  :  2.0\n",
      "tt0468569: The Dark Knight  :  2.0\n",
      "tt1659337: The Perks of Being a Wallflower  :  2.0\n",
      "tt0067328: The Last Picture Show  :  2.0\n",
      "tt0119217: Good Will Hunting  :  2.0\n",
      "tt0112579: The Bridges of Madison County  :  2.0\n",
      "tt0110148: Interview with the Vampire: The Vampire Chronicles  :  2.0\n",
      "tt1315981: A Single Man  :  2.0\n",
      "tt3281548: Little Women  :  2.0\n",
      "tt0332280: The Notebook  :  2.0\n",
      "tt4572514: Patriots Day  :  2.0\n",
      "tt2582846: The Fault in Our Stars  :  2.0\n",
      "tt0108399: True Romance  :  2.0\n",
      "tt0092005: Stand by Me  :  2.0\n",
      "tt5363618: Sound of Metal  :  2.0\n",
      "tt3890160: Baby Driver  :  2.0\n",
      "tt0120382: The Truman Show  :  2.0\n",
      "tt5027774: Three Billboards Outside Ebbing, Missouri  :  2.0\n",
      "tt10514222: Ma Rainey's Black Bottom  :  2.0\n",
      "tt0120863: The Thin Red Line  :  2.0\n",
      "tt0100157: Misery  :  2.0\n",
      "tt0077405: Days of Heaven  :  2.0\n",
      "tt8075192: Shoplifters  :  2.0\n",
      "tt0361748: Inglourious Basterds  :  2.0\n",
      "tt0137523: Fight Club  :  2.0\n",
      "tt0109830: Forrest Gump  :  2.0\n",
      "tt0087781: The Natural  :  2.0\n",
      "tt0120815: Saving Private Ryan  :  2.0\n",
      "tt0385002: Green Street Hooligans  :  2.0\n",
      "tt0070666: Serpico  :  2.0\n",
      "tt0094738: The Big Blue  :  2.0\n",
      "tt1285016: The Social Network  :  2.0\n",
      "tt2083383: Trouble with the Curve  :  2.0\n"
     ]
    }
   ],
   "source": [
    "print_recommendations(df_1, model_1, X_1.loc[[movie_index]], len(chosen_ones))"
   ]
  },
  {
   "cell_type": "code",
   "execution_count": 16,
   "id": "returning-qatar",
   "metadata": {},
   "outputs": [],
   "source": [
    "first_filter = pd.DataFrame()\n",
    "\n",
    "for movie in chosen_ones:\n",
    "    \n",
    "    first_filter = first_filter.append(ohe_df_scaled.loc[[movie]])\n",
    "    \n",
    "first_filter.reset_index(inplace=True)"
   ]
  },
  {
   "cell_type": "markdown",
   "id": "environmental-daniel",
   "metadata": {},
   "source": [
    "**MODEL 2:**<br>\n",
    "Features: Writers, startYear, numVotes, averageRating"
   ]
  },
  {
   "cell_type": "code",
   "execution_count": 17,
   "id": "fixed-lebanon",
   "metadata": {},
   "outputs": [
    {
     "data": {
      "text/html": [
       "<div>\n",
       "<style scoped>\n",
       "    .dataframe tbody tr th:only-of-type {\n",
       "        vertical-align: middle;\n",
       "    }\n",
       "\n",
       "    .dataframe tbody tr th {\n",
       "        vertical-align: top;\n",
       "    }\n",
       "\n",
       "    .dataframe thead th {\n",
       "        text-align: right;\n",
       "    }\n",
       "</style>\n",
       "<table border=\"1\" class=\"dataframe\">\n",
       "  <thead>\n",
       "    <tr style=\"text-align: right;\">\n",
       "      <th></th>\n",
       "      <th>index</th>\n",
       "      <th>tconst</th>\n",
       "      <th>primaryTitle</th>\n",
       "      <th>startYear</th>\n",
       "      <th>runtimeMinutes</th>\n",
       "      <th>averageRating</th>\n",
       "      <th>numVotes</th>\n",
       "      <th>worldwideGross</th>\n",
       "      <th>oscarsWon</th>\n",
       "      <th>totalWins</th>\n",
       "      <th>...</th>\n",
       "      <th>language_turkish</th>\n",
       "      <th>language_ukrainian</th>\n",
       "      <th>language_ungwatsi</th>\n",
       "      <th>language_urdu</th>\n",
       "      <th>language_vietnamese</th>\n",
       "      <th>language_wolof</th>\n",
       "      <th>language_xhosa</th>\n",
       "      <th>language_yiddish</th>\n",
       "      <th>language_yoruba</th>\n",
       "      <th>language_zulu</th>\n",
       "    </tr>\n",
       "  </thead>\n",
       "  <tbody>\n",
       "    <tr>\n",
       "      <th>0</th>\n",
       "      <td>377</td>\n",
       "      <td>tt0110912</td>\n",
       "      <td>Pulp Fiction</td>\n",
       "      <td>0.48</td>\n",
       "      <td>0.392727</td>\n",
       "      <td>0.948718</td>\n",
       "      <td>0.779396</td>\n",
       "      <td>0.076463</td>\n",
       "      <td>0.090909</td>\n",
       "      <td>0.233108</td>\n",
       "      <td>...</td>\n",
       "      <td>0.0</td>\n",
       "      <td>0.0</td>\n",
       "      <td>0.0</td>\n",
       "      <td>0.0</td>\n",
       "      <td>0.0</td>\n",
       "      <td>0.0</td>\n",
       "      <td>0.0</td>\n",
       "      <td>0.0</td>\n",
       "      <td>0.0</td>\n",
       "      <td>0.0</td>\n",
       "    </tr>\n",
       "    <tr>\n",
       "      <th>1</th>\n",
       "      <td>388</td>\n",
       "      <td>tt0105236</td>\n",
       "      <td>Reservoir Dogs</td>\n",
       "      <td>0.44</td>\n",
       "      <td>0.192727</td>\n",
       "      <td>0.871795</td>\n",
       "      <td>0.391865</td>\n",
       "      <td>0.001033</td>\n",
       "      <td>0.000000</td>\n",
       "      <td>0.040541</td>\n",
       "      <td>...</td>\n",
       "      <td>0.0</td>\n",
       "      <td>0.0</td>\n",
       "      <td>0.0</td>\n",
       "      <td>0.0</td>\n",
       "      <td>0.0</td>\n",
       "      <td>0.0</td>\n",
       "      <td>0.0</td>\n",
       "      <td>0.0</td>\n",
       "      <td>0.0</td>\n",
       "      <td>0.0</td>\n",
       "    </tr>\n",
       "    <tr>\n",
       "      <th>2</th>\n",
       "      <td>729</td>\n",
       "      <td>tt3460252</td>\n",
       "      <td>The Hateful Eight</td>\n",
       "      <td>0.90</td>\n",
       "      <td>0.443636</td>\n",
       "      <td>0.807692</td>\n",
       "      <td>0.221118</td>\n",
       "      <td>0.055920</td>\n",
       "      <td>0.090909</td>\n",
       "      <td>0.138514</td>\n",
       "      <td>...</td>\n",
       "      <td>0.0</td>\n",
       "      <td>0.0</td>\n",
       "      <td>0.0</td>\n",
       "      <td>0.0</td>\n",
       "      <td>0.0</td>\n",
       "      <td>0.0</td>\n",
       "      <td>0.0</td>\n",
       "      <td>0.0</td>\n",
       "      <td>0.0</td>\n",
       "      <td>0.0</td>\n",
       "    </tr>\n",
       "    <tr>\n",
       "      <th>3</th>\n",
       "      <td>409</td>\n",
       "      <td>tt0106469</td>\n",
       "      <td>Blood In, Blood Out</td>\n",
       "      <td>0.46</td>\n",
       "      <td>0.487273</td>\n",
       "      <td>0.833333</td>\n",
       "      <td>0.012280</td>\n",
       "      <td>0.001607</td>\n",
       "      <td>0.000000</td>\n",
       "      <td>0.003378</td>\n",
       "      <td>...</td>\n",
       "      <td>0.0</td>\n",
       "      <td>0.0</td>\n",
       "      <td>0.0</td>\n",
       "      <td>0.0</td>\n",
       "      <td>0.0</td>\n",
       "      <td>0.0</td>\n",
       "      <td>0.0</td>\n",
       "      <td>0.0</td>\n",
       "      <td>0.0</td>\n",
       "      <td>0.0</td>\n",
       "    </tr>\n",
       "    <tr>\n",
       "      <th>4</th>\n",
       "      <td>46</td>\n",
       "      <td>tt0266697</td>\n",
       "      <td>Kill Bill: Vol. 1</td>\n",
       "      <td>0.66</td>\n",
       "      <td>0.236364</td>\n",
       "      <td>0.846154</td>\n",
       "      <td>0.426775</td>\n",
       "      <td>0.064658</td>\n",
       "      <td>0.000000</td>\n",
       "      <td>0.097973</td>\n",
       "      <td>...</td>\n",
       "      <td>0.0</td>\n",
       "      <td>0.0</td>\n",
       "      <td>0.0</td>\n",
       "      <td>0.0</td>\n",
       "      <td>0.0</td>\n",
       "      <td>0.0</td>\n",
       "      <td>0.0</td>\n",
       "      <td>0.0</td>\n",
       "      <td>0.0</td>\n",
       "      <td>0.0</td>\n",
       "    </tr>\n",
       "    <tr>\n",
       "      <th>5</th>\n",
       "      <td>397</td>\n",
       "      <td>tt0075314</td>\n",
       "      <td>Taxi Driver</td>\n",
       "      <td>0.12</td>\n",
       "      <td>0.247273</td>\n",
       "      <td>0.858974</td>\n",
       "      <td>0.309559</td>\n",
       "      <td>0.010165</td>\n",
       "      <td>0.000000</td>\n",
       "      <td>0.070946</td>\n",
       "      <td>...</td>\n",
       "      <td>0.0</td>\n",
       "      <td>0.0</td>\n",
       "      <td>0.0</td>\n",
       "      <td>0.0</td>\n",
       "      <td>0.0</td>\n",
       "      <td>0.0</td>\n",
       "      <td>0.0</td>\n",
       "      <td>0.0</td>\n",
       "      <td>0.0</td>\n",
       "      <td>0.0</td>\n",
       "    </tr>\n",
       "    <tr>\n",
       "      <th>6</th>\n",
       "      <td>422</td>\n",
       "      <td>tt1853728</td>\n",
       "      <td>Django Unchained</td>\n",
       "      <td>0.84</td>\n",
       "      <td>0.432727</td>\n",
       "      <td>0.884615</td>\n",
       "      <td>0.579930</td>\n",
       "      <td>0.152036</td>\n",
       "      <td>0.181818</td>\n",
       "      <td>0.189189</td>\n",
       "      <td>...</td>\n",
       "      <td>0.0</td>\n",
       "      <td>0.0</td>\n",
       "      <td>0.0</td>\n",
       "      <td>0.0</td>\n",
       "      <td>0.0</td>\n",
       "      <td>0.0</td>\n",
       "      <td>0.0</td>\n",
       "      <td>0.0</td>\n",
       "      <td>0.0</td>\n",
       "      <td>0.0</td>\n",
       "    </tr>\n",
       "    <tr>\n",
       "      <th>7</th>\n",
       "      <td>376</td>\n",
       "      <td>tt0071562</td>\n",
       "      <td>The Godfather: Part II</td>\n",
       "      <td>0.08</td>\n",
       "      <td>0.567273</td>\n",
       "      <td>0.961538</td>\n",
       "      <td>0.482317</td>\n",
       "      <td>0.017169</td>\n",
       "      <td>0.545455</td>\n",
       "      <td>0.037162</td>\n",
       "      <td>...</td>\n",
       "      <td>0.0</td>\n",
       "      <td>0.0</td>\n",
       "      <td>0.0</td>\n",
       "      <td>0.0</td>\n",
       "      <td>0.0</td>\n",
       "      <td>0.0</td>\n",
       "      <td>0.0</td>\n",
       "      <td>0.0</td>\n",
       "      <td>0.0</td>\n",
       "      <td>0.0</td>\n",
       "    </tr>\n",
       "  </tbody>\n",
       "</table>\n",
       "<p>8 rows × 11414 columns</p>\n",
       "</div>"
      ],
      "text/plain": [
       "   index     tconst            primaryTitle  startYear  runtimeMinutes  \\\n",
       "0    377  tt0110912            Pulp Fiction       0.48        0.392727   \n",
       "1    388  tt0105236          Reservoir Dogs       0.44        0.192727   \n",
       "2    729  tt3460252       The Hateful Eight       0.90        0.443636   \n",
       "3    409  tt0106469     Blood In, Blood Out       0.46        0.487273   \n",
       "4     46  tt0266697       Kill Bill: Vol. 1       0.66        0.236364   \n",
       "5    397  tt0075314             Taxi Driver       0.12        0.247273   \n",
       "6    422  tt1853728        Django Unchained       0.84        0.432727   \n",
       "7    376  tt0071562  The Godfather: Part II       0.08        0.567273   \n",
       "\n",
       "   averageRating  numVotes  worldwideGross  oscarsWon  totalWins  ...  \\\n",
       "0       0.948718  0.779396        0.076463   0.090909   0.233108  ...   \n",
       "1       0.871795  0.391865        0.001033   0.000000   0.040541  ...   \n",
       "2       0.807692  0.221118        0.055920   0.090909   0.138514  ...   \n",
       "3       0.833333  0.012280        0.001607   0.000000   0.003378  ...   \n",
       "4       0.846154  0.426775        0.064658   0.000000   0.097973  ...   \n",
       "5       0.858974  0.309559        0.010165   0.000000   0.070946  ...   \n",
       "6       0.884615  0.579930        0.152036   0.181818   0.189189  ...   \n",
       "7       0.961538  0.482317        0.017169   0.545455   0.037162  ...   \n",
       "\n",
       "   language_turkish  language_ukrainian  language_ungwatsi  language_urdu  \\\n",
       "0               0.0                 0.0                0.0            0.0   \n",
       "1               0.0                 0.0                0.0            0.0   \n",
       "2               0.0                 0.0                0.0            0.0   \n",
       "3               0.0                 0.0                0.0            0.0   \n",
       "4               0.0                 0.0                0.0            0.0   \n",
       "5               0.0                 0.0                0.0            0.0   \n",
       "6               0.0                 0.0                0.0            0.0   \n",
       "7               0.0                 0.0                0.0            0.0   \n",
       "\n",
       "   language_vietnamese  language_wolof  language_xhosa  language_yiddish  \\\n",
       "0                  0.0             0.0             0.0               0.0   \n",
       "1                  0.0             0.0             0.0               0.0   \n",
       "2                  0.0             0.0             0.0               0.0   \n",
       "3                  0.0             0.0             0.0               0.0   \n",
       "4                  0.0             0.0             0.0               0.0   \n",
       "5                  0.0             0.0             0.0               0.0   \n",
       "6                  0.0             0.0             0.0               0.0   \n",
       "7                  0.0             0.0             0.0               0.0   \n",
       "\n",
       "   language_yoruba  language_zulu  \n",
       "0              0.0            0.0  \n",
       "1              0.0            0.0  \n",
       "2              0.0            0.0  \n",
       "3              0.0            0.0  \n",
       "4              0.0            0.0  \n",
       "5              0.0            0.0  \n",
       "6              0.0            0.0  \n",
       "7              0.0            0.0  \n",
       "\n",
       "[8 rows x 11414 columns]"
      ]
     },
     "execution_count": 17,
     "metadata": {},
     "output_type": "execute_result"
    }
   ],
   "source": [
    "first_filter.head(8)"
   ]
  },
  {
   "cell_type": "code",
   "execution_count": 18,
   "id": "introductory-forum",
   "metadata": {},
   "outputs": [],
   "source": [
    "df_2 = select_features(first_filter, [\"tconst\", \"primaryTitle\", \"genres\", \"actors\", \"directors\", \"writers\", \"numVotes\", \"averageRating\"])\n",
    "X_2 = df_2.drop(columns=[\"tconst\", \"primaryTitle\"])"
   ]
  },
  {
   "cell_type": "code",
   "execution_count": 19,
   "id": "turned-kentucky",
   "metadata": {},
   "outputs": [],
   "source": [
    "movie_index = get_movie_index(df_2, movie_name)"
   ]
  },
  {
   "cell_type": "code",
   "execution_count": 20,
   "id": "secondary-alias",
   "metadata": {},
   "outputs": [
    {
     "data": {
      "text/plain": [
       "NearestNeighbors()"
      ]
     },
     "execution_count": 20,
     "metadata": {},
     "output_type": "execute_result"
    }
   ],
   "source": [
    "model_2 = NearestNeighbors()\n",
    "model_2.fit(X_2)"
   ]
  },
  {
   "cell_type": "code",
   "execution_count": 84,
   "id": "twelve-connectivity",
   "metadata": {},
   "outputs": [],
   "source": [
    "distance, index = model_2.kneighbors(X_2.loc[[movie_index]], X_2.shape[0])\n",
    "\n",
    "distance = distance.tolist()[0]\n",
    "index = index.tolist()[0]"
   ]
  },
  {
   "cell_type": "code",
   "execution_count": 85,
   "id": "protecting-subscription",
   "metadata": {},
   "outputs": [],
   "source": [
    "chosen_ones = []\n",
    "last_dist = distance[30]\n",
    "\n",
    "for i, dist in enumerate(distance):\n",
    "    \n",
    "    if dist > last_dist: break\n",
    "    chosen_ones.append(index[i])\n",
    "    "
   ]
  },
  {
   "cell_type": "code",
   "execution_count": 86,
   "id": "ranking-locator",
   "metadata": {},
   "outputs": [
    {
     "data": {
      "text/plain": [
       "31"
      ]
     },
     "execution_count": 86,
     "metadata": {},
     "output_type": "execute_result"
    }
   ],
   "source": [
    "len(chosen_ones)"
   ]
  },
  {
   "cell_type": "code",
   "execution_count": 87,
   "id": "third-adjustment",
   "metadata": {},
   "outputs": [
    {
     "name": "stdout",
     "output_type": "stream",
     "text": [
      "tt0468569: The Dark Knight  :  0.0\n",
      "tt1345836: The Dark Knight Rises  :  3.8883117481044263\n",
      "tt0372784: Batman Begins  :  4.023822501622813\n",
      "tt0482571: The Prestige  :  4.819690888598056\n",
      "tt1375666: Inception  :  5.001068597383764\n",
      "tt0110413: Léon: The Professional  :  5.02957430813033\n",
      "tt5013056: Dunkirk  :  5.0575494639552865\n",
      "tt0425210: Lucky Number Slevin  :  5.075385300247714\n",
      "tt0816692: Interstellar  :  5.110322105477069\n",
      "tt0114369: Se7en  :  5.209247369959478\n"
     ]
    }
   ],
   "source": [
    "print_recommendations(df_2, model_2, X_2.loc[[movie_index]], 10)"
   ]
  },
  {
   "cell_type": "markdown",
   "id": "functioning-happiness",
   "metadata": {},
   "source": [
    "PROBLEM: Movies with less information can be more similar than movies with more. Movies with more information have more opportunities to be different than movies with little information, where everything that is missing is filled with 0.\n",
    "\n",
    "A good example of this is: [\"tt5317732\", \"The Little Prince\"]"
   ]
  },
  {
   "cell_type": "markdown",
   "id": "chemical-spanish",
   "metadata": {},
   "source": [
    "**For better recommendations, we need more movies in the database. In the case of \"The Dark Knight\", after 5 movies there are already only 2 things in common**"
   ]
  }
 ],
 "metadata": {
  "kernelspec": {
   "display_name": "Python 3",
   "language": "python",
   "name": "python3"
  },
  "language_info": {
   "codemirror_mode": {
    "name": "ipython",
    "version": 3
   },
   "file_extension": ".py",
   "mimetype": "text/x-python",
   "name": "python",
   "nbconvert_exporter": "python",
   "pygments_lexer": "ipython3",
   "version": "3.8.6"
  }
 },
 "nbformat": 4,
 "nbformat_minor": 5
}
