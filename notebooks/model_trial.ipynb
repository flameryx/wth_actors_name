{
 "cells": [
  {
   "cell_type": "code",
   "execution_count": 77,
   "id": "adjacent-tunisia",
   "metadata": {},
   "outputs": [],
   "source": [
    "import joblib\n",
    "import pickle\n",
    "import numpy as np\n",
    "\n",
    "import cv2\n",
    "import os\n",
    "import glob\n",
    "\n",
    "import cv2\n",
    "import urllib\n",
    "\n",
    "import matplotlib.pyplot as plt\n",
    "\n",
    "import tensorflow as tf\n",
    "import keras"
   ]
  },
  {
   "cell_type": "code",
   "execution_count": 13,
   "id": "adequate-bread",
   "metadata": {},
   "outputs": [],
   "source": []
  },
  {
   "cell_type": "code",
   "execution_count": null,
   "id": "alive-anniversary",
   "metadata": {},
   "outputs": [],
   "source": []
  },
  {
   "cell_type": "code",
   "execution_count": 12,
   "id": "industrial-quality",
   "metadata": {},
   "outputs": [
    {
     "data": {
      "text/plain": [
       "<tensorflow.python.keras.engine.functional.Functional at 0x15ccf0f40>"
      ]
     },
     "execution_count": 12,
     "metadata": {},
     "output_type": "execute_result"
    }
   ],
   "source": [
    "#load image from url\n",
    "#apply preprocessing\n",
    "#predict using model\n",
    "#store prediction in variable"
   ]
  },
  {
   "cell_type": "markdown",
   "id": "searching-berkeley",
   "metadata": {},
   "source": [
    "## Loading and Preprocessing"
   ]
  },
  {
   "cell_type": "code",
   "execution_count": 82,
   "id": "institutional-boxing",
   "metadata": {},
   "outputs": [],
   "source": [
    "model = tf.keras.models.load_model(\"/Users/elias/code/Final_Project/wth_actors_name/cnn_final_model_3\")"
   ]
  },
  {
   "cell_type": "code",
   "execution_count": 17,
   "id": "pending-stephen",
   "metadata": {},
   "outputs": [],
   "source": []
  },
  {
   "cell_type": "code",
   "execution_count": 78,
   "id": "sound-outdoors",
   "metadata": {},
   "outputs": [],
   "source": [
    "#define cascade classifier\n",
    "face_cascade = cv2.CascadeClassifier(cv2.data.haarcascades + \"haarcascade_frontalface_default.xml\")\n",
    "\n",
    "def detect_face(img):\n",
    "    \n",
    "    #setting the cascade classifier\n",
    "    rectangle = face_cascade.detectMultiScale(img, scaleFactor = 1.1, minNeighbors = 4)\n",
    "    \n",
    "    #if no face is found the\n",
    "    if len(rectangle) == 0:\n",
    "        return None\n",
    "\n",
    "    #setting the right coordinates\n",
    "    rectangle[:,2:] += rectangle[:,:2]\n",
    "    \n",
    "    return rectangle[0]\n",
    "\n",
    "\n",
    "def preprocess(url):\n",
    "    \n",
    "    #loading images\n",
    "    resp = urllib.request.urlopen(url)\n",
    "    image = np.asarray(bytearray(resp.read()), dtype=\"uint8\")\n",
    "    image = cv2.imdecode(image, cv2.IMREAD_COLOR)\n",
    "    image = cv2.cvtColor(image , cv2.COLOR_BGR2RGB)\n",
    "    \n",
    "    #set output image dimensions\n",
    "    dim = (100,100)\n",
    "        \n",
    "    #calcultating coordinates of face\n",
    "    coordinates = detect_face(image)\n",
    "        \n",
    "    #if the detect face function found a face then proceed\n",
    "    if coordinates is not None:\n",
    "        \n",
    "        #unpacking coordinates\n",
    "        x1, y1, x2, y2 = coordinates\n",
    "            \n",
    "        #cropping and resizing the image\n",
    "        resized_image = cv2.resize(image[y1:y2,x1:x2], dim, interpolation = cv2.INTER_AREA)\n",
    "        \n",
    "        #normalizing\n",
    "        resized_image = resized_image/255\n",
    "\n",
    "        #adding dimension\n",
    "        resized_image = resized_image[None, :]\n",
    "\n",
    "        #saving to cropped_folder\n",
    "        return resized_image"
   ]
  },
  {
   "cell_type": "code",
   "execution_count": 79,
   "id": "alone-adobe",
   "metadata": {},
   "outputs": [],
   "source": [
    "url = \"https://ca-times.brightspotcdn.com/dims4/default/2a094f0/2147483647/strip/true/crop/311x512+0+0/resize/840x1383!/quality/90/?url=https%3A%2F%2Fcalifornia-times-brightspot.s3.amazonaws.com%2Fe4%2Fad%2F8a7dabb97bf844d7684968f611e5%2Fsdut-in-this-april-27-2007-file-ph-20160828\""
   ]
  },
  {
   "cell_type": "code",
   "execution_count": 80,
   "id": "fuzzy-steal",
   "metadata": {},
   "outputs": [],
   "source": [
    "image = preprocess(url)"
   ]
  },
  {
   "cell_type": "code",
   "execution_count": 56,
   "id": "cultural-surge",
   "metadata": {},
   "outputs": [],
   "source": [
    "name_to_index = {'Aaron Judge': 0,\n",
    " 'Aaron Paul': 1,\n",
    " 'Aaron Taylor-Johnson': 2,\n",
    " 'Abigail Breslin': 3,\n",
    " 'Adam Sandler': 4,\n",
    " 'Adele': 5,\n",
    " 'Adriana Barraza': 6,\n",
    " 'Adriana Lima': 7,\n",
    " 'Adrianne Palicki': 8,\n",
    " 'Adrien Brody': 9,\n",
    " 'Akemi Darenogare': 10,\n",
    " 'Al Pacino': 11,\n",
    " 'Al Roker': 12,\n",
    " 'Alan Alda': 13,\n",
    " 'Alan Arkin': 14,\n",
    " 'Alan Rickman': 15,\n",
    " 'Albert Brooks': 16,\n",
    " 'Albert Finney': 17,\n",
    " 'Alec Baldwin': 18,\n",
    " 'Alexander Skarsgard': 19}"
   ]
  },
  {
   "cell_type": "code",
   "execution_count": 57,
   "id": "adapted-evaluation",
   "metadata": {},
   "outputs": [],
   "source": [
    "def predict(image):\n",
    "\n",
    "  index_to_name = {v:key for key,v in name_to_index.items()}\n",
    "\n",
    "  predicted_index = np.argmax(model.predict(image))\n",
    "\n",
    "  predicted_name = index_to_name[predicted_index]\n",
    "\n",
    "  return predicted_name"
   ]
  },
  {
   "cell_type": "code",
   "execution_count": 81,
   "id": "standing-buying",
   "metadata": {},
   "outputs": [
    {
     "ename": "AttributeError",
     "evalue": "'Functional' object has no attribute '_distribution_strategy'",
     "output_type": "error",
     "traceback": [
      "\u001b[0;31m---------------------------------------------------------------------------\u001b[0m",
      "\u001b[0;31mAttributeError\u001b[0m                            Traceback (most recent call last)",
      "\u001b[0;32m<ipython-input-81-18932d3507da>\u001b[0m in \u001b[0;36m<module>\u001b[0;34m\u001b[0m\n\u001b[0;32m----> 1\u001b[0;31m \u001b[0mmodel\u001b[0m\u001b[0;34m.\u001b[0m\u001b[0mpredict\u001b[0m\u001b[0;34m(\u001b[0m\u001b[0mimage\u001b[0m\u001b[0;34m)\u001b[0m\u001b[0;34m\u001b[0m\u001b[0;34m\u001b[0m\u001b[0m\n\u001b[0m",
      "\u001b[0;32m~/.pyenv/versions/3.8.6/envs/wth-actors-name/lib/python3.8/site-packages/tensorflow/python/keras/engine/training.py\u001b[0m in \u001b[0;36mpredict\u001b[0;34m(self, x, batch_size, verbose, steps, callbacks, max_queue_size, workers, use_multiprocessing)\u001b[0m\n\u001b[1;32m   1580\u001b[0m \u001b[0;34m\u001b[0m\u001b[0m\n\u001b[1;32m   1581\u001b[0m     \u001b[0moutputs\u001b[0m \u001b[0;34m=\u001b[0m \u001b[0;32mNone\u001b[0m\u001b[0;34m\u001b[0m\u001b[0;34m\u001b[0m\u001b[0m\n\u001b[0;32m-> 1582\u001b[0;31m     \u001b[0;32mwith\u001b[0m \u001b[0mself\u001b[0m\u001b[0;34m.\u001b[0m\u001b[0mdistribute_strategy\u001b[0m\u001b[0;34m.\u001b[0m\u001b[0mscope\u001b[0m\u001b[0;34m(\u001b[0m\u001b[0;34m)\u001b[0m\u001b[0;34m:\u001b[0m\u001b[0;34m\u001b[0m\u001b[0;34m\u001b[0m\u001b[0m\n\u001b[0m\u001b[1;32m   1583\u001b[0m       \u001b[0;31m# Creates a `tf.data.Dataset` and handles batch and epoch iteration.\u001b[0m\u001b[0;34m\u001b[0m\u001b[0;34m\u001b[0m\u001b[0;34m\u001b[0m\u001b[0m\n\u001b[1;32m   1584\u001b[0m       \u001b[0mdataset_types\u001b[0m \u001b[0;34m=\u001b[0m \u001b[0;34m(\u001b[0m\u001b[0mdataset_ops\u001b[0m\u001b[0;34m.\u001b[0m\u001b[0mDatasetV1\u001b[0m\u001b[0;34m,\u001b[0m \u001b[0mdataset_ops\u001b[0m\u001b[0;34m.\u001b[0m\u001b[0mDatasetV2\u001b[0m\u001b[0;34m)\u001b[0m\u001b[0;34m\u001b[0m\u001b[0;34m\u001b[0m\u001b[0m\n",
      "\u001b[0;32m~/.pyenv/versions/3.8.6/envs/wth-actors-name/lib/python3.8/site-packages/tensorflow/python/keras/engine/training.py\u001b[0m in \u001b[0;36mdistribute_strategy\u001b[0;34m(self)\u001b[0m\n\u001b[1;32m    687\u001b[0m   \u001b[0;32mdef\u001b[0m \u001b[0mdistribute_strategy\u001b[0m\u001b[0;34m(\u001b[0m\u001b[0mself\u001b[0m\u001b[0;34m)\u001b[0m\u001b[0;34m:\u001b[0m\u001b[0;34m\u001b[0m\u001b[0;34m\u001b[0m\u001b[0m\n\u001b[1;32m    688\u001b[0m     \u001b[0;34m\"\"\"The `tf.distribute.Strategy` this model was created under.\"\"\"\u001b[0m\u001b[0;34m\u001b[0m\u001b[0;34m\u001b[0m\u001b[0m\n\u001b[0;32m--> 689\u001b[0;31m     \u001b[0;32mreturn\u001b[0m \u001b[0mself\u001b[0m\u001b[0;34m.\u001b[0m\u001b[0m_distribution_strategy\u001b[0m \u001b[0;32mor\u001b[0m \u001b[0mds_context\u001b[0m\u001b[0;34m.\u001b[0m\u001b[0mget_strategy\u001b[0m\u001b[0;34m(\u001b[0m\u001b[0;34m)\u001b[0m\u001b[0;34m\u001b[0m\u001b[0;34m\u001b[0m\u001b[0m\n\u001b[0m\u001b[1;32m    690\u001b[0m \u001b[0;34m\u001b[0m\u001b[0m\n\u001b[1;32m    691\u001b[0m   \u001b[0;34m@\u001b[0m\u001b[0mproperty\u001b[0m\u001b[0;34m\u001b[0m\u001b[0;34m\u001b[0m\u001b[0m\n",
      "\u001b[0;31mAttributeError\u001b[0m: 'Functional' object has no attribute '_distribution_strategy'"
     ]
    }
   ],
   "source": [
    "model.predict(image)"
   ]
  },
  {
   "cell_type": "code",
   "execution_count": null,
   "id": "exclusive-greek",
   "metadata": {},
   "outputs": [],
   "source": []
  }
 ],
 "metadata": {
  "kernelspec": {
   "display_name": "Python 3",
   "language": "python",
   "name": "python3"
  },
  "language_info": {
   "codemirror_mode": {
    "name": "ipython",
    "version": 3
   },
   "file_extension": ".py",
   "mimetype": "text/x-python",
   "name": "python",
   "nbconvert_exporter": "python",
   "pygments_lexer": "ipython3",
   "version": "3.8.6"
  }
 },
 "nbformat": 4,
 "nbformat_minor": 5
}
