{
 "cells": [
  {
   "cell_type": "code",
   "execution_count": 5,
   "id": "wound-stick",
   "metadata": {},
   "outputs": [],
   "source": [
    "from imdb import IMDb"
   ]
  },
  {
   "cell_type": "code",
   "execution_count": 3,
   "id": "psychological-luxembourg",
   "metadata": {},
   "outputs": [
    {
     "name": "stdout",
     "output_type": "stream",
     "text": [
      "Collecting imdbpy\n",
      "  Downloading IMDbPY-2020.9.25-py3-none-any.whl (304 kB)\n",
      "\u001b[K     |████████████████████████████████| 304 kB 3.3 MB/s eta 0:00:01\n",
      "\u001b[?25hCollecting lxml\n",
      "  Using cached lxml-4.6.2-cp38-cp38-manylinux1_x86_64.whl (5.4 MB)\n",
      "Collecting SQLAlchemy\n",
      "  Using cached SQLAlchemy-1.3.23-cp38-cp38-manylinux2010_x86_64.whl (1.3 MB)\n",
      "Installing collected packages: SQLAlchemy, lxml, imdbpy\n",
      "Successfully installed SQLAlchemy-1.3.23 imdbpy-2020.9.25 lxml-4.6.2\n"
     ]
    }
   ],
   "source": [
    "! pip install imdbpy"
   ]
  },
  {
   "cell_type": "code",
   "execution_count": 6,
   "id": "decent-carroll",
   "metadata": {},
   "outputs": [
    {
     "ename": "AttributeError",
     "evalue": "'IMDbHTTPAccessSystem' object has no attribute 'get_actor'",
     "output_type": "error",
     "traceback": [
      "\u001b[0;31m---------------------------------------------------------------------------\u001b[0m",
      "\u001b[0;31mAttributeError\u001b[0m                            Traceback (most recent call last)",
      "\u001b[0;32m<ipython-input-6-021aa5c940b1>\u001b[0m in \u001b[0;36m<module>\u001b[0;34m\u001b[0m\n\u001b[1;32m      1\u001b[0m \u001b[0mia\u001b[0m \u001b[0;34m=\u001b[0m \u001b[0mIMDb\u001b[0m\u001b[0;34m(\u001b[0m\u001b[0;34m)\u001b[0m\u001b[0;34m\u001b[0m\u001b[0;34m\u001b[0m\u001b[0m\n\u001b[1;32m      2\u001b[0m \u001b[0;34m\u001b[0m\u001b[0m\n\u001b[0;32m----> 3\u001b[0;31m \u001b[0mactors\u001b[0m \u001b[0;34m=\u001b[0m \u001b[0mia\u001b[0m\u001b[0;34m.\u001b[0m\u001b[0mget_actor\u001b[0m\u001b[0;34m(\u001b[0m\u001b[0;34m)\u001b[0m\u001b[0;34m\u001b[0m\u001b[0;34m\u001b[0m\u001b[0m\n\u001b[0m\u001b[1;32m      4\u001b[0m \u001b[0mactors\u001b[0m\u001b[0;34m\u001b[0m\u001b[0;34m\u001b[0m\u001b[0m\n",
      "\u001b[0;31mAttributeError\u001b[0m: 'IMDbHTTPAccessSystem' object has no attribute 'get_actor'"
     ]
    }
   ],
   "source": [
    "ia = IMDb()\n",
    "\n",
    "actors = ia.get_actor()\n",
    "actors"
   ]
  },
  {
   "cell_type": "code",
   "execution_count": 11,
   "id": "federal-telling",
   "metadata": {},
   "outputs": [],
   "source": [
    "people = ia.search_person('angelina jolie')"
   ]
  },
  {
   "cell_type": "code",
   "execution_count": 12,
   "id": "eleven-irrigation",
   "metadata": {},
   "outputs": [
    {
     "data": {
      "text/plain": [
       "16"
      ]
     },
     "execution_count": 12,
     "metadata": {},
     "output_type": "execute_result"
    }
   ],
   "source": [
    "len(people)"
   ]
  },
  {
   "cell_type": "code",
   "execution_count": 13,
   "id": "advance-astronomy",
   "metadata": {},
   "outputs": [
    {
     "data": {
      "text/plain": [
       "[<Person id:0001401[http] name:_Angelina Jolie_>,\n",
       " <Person id:11280550[http] name:_Angelina Jolin_>,\n",
       " <Person id:9731490[http] name:_Angelina Joo_>,\n",
       " <Person id:0431370[http] name:_Angelina Jové_>,\n",
       " <Person id:11988504[http] name:_Angelina Jordan (III)_>,\n",
       " <Person id:2547961[http] name:_Angelina Jole Jimenez_>,\n",
       " <Person id:11895106[http] name:_Angelina Johnson_>,\n",
       " <Person id:7827326[http] name:_Angelina Jordan (I)_>,\n",
       " <Person id:8361019[http] name:_Angelina Jordan Astar_>,\n",
       " <Person id:6527638[http] name:_Angelina Johnston_>,\n",
       " <Person id:3944283[http] name:_Angelina Joseph_>,\n",
       " <Person id:11201955[http] name:_Angelina Jordan (II)_>,\n",
       " <Person id:3751575[http] name:_Angelina Jourgenson_>,\n",
       " <Person id:5119704[http] name:_Angelina-Joy Fischer_>,\n",
       " <Person id:3835122[http] name:_Angelina Joines_>,\n",
       " <Person id:3739468[http] name:_Angelina Pivarnick_>]"
      ]
     },
     "execution_count": 13,
     "metadata": {},
     "output_type": "execute_result"
    }
   ],
   "source": [
    "people"
   ]
  },
  {
   "cell_type": "code",
   "execution_count": null,
   "id": "featured-concern",
   "metadata": {},
   "outputs": [],
   "source": [
    "import requests\n",
    "\n",
    "# fill the parameters for the prediction\n",
    "x = dict(\n",
    "  key='2012-10-06 12:10:20.0000001',\n",
    "  pickup_datetime='2012-10-06 12:10:20 UTC',\n",
    "  pickup_longitude=40.7614327,\n",
    "  pickup_latitude=-73.9798156,\n",
    "  dropoff_longitude=40.6413111,\n",
    "  dropoff_latitude=-73.9797156,\n",
    "  passenger_count=1\n",
    ")\n",
    "\n",
    "# build the URL (server DNS, port, API endpoint, parameters)\n",
    "# http://127.0.0.1:8000/predict_fare/2012-10-06%2012:10:20.0000001/2009-06-15%2017:26:21%20UTC/40.7614327/-73.9798156/40.6513111/-73.8803331/2\n",
    "taxifare_api_url = f\"http://127.0.0.1:8000/predict_fare/{x['key']}/{x['pickup_datetime']}/{x['pickup_longitude']}/{x['pickup_latitude']}/{x['dropoff_longitude']}/{x['dropoff_latitude']}/{x['passenger_count']}\"\n",
    "\n",
    "# retrieve the response\n",
    "response = requests.get(\n",
    "    taxifare_api_url\n",
    ").json()\n",
    "\n",
    "print(response)\n"
   ]
  },
  {
   "cell_type": "code",
   "execution_count": 15,
   "id": "enabling-conversion",
   "metadata": {},
   "outputs": [],
   "source": [
    "from fastapi import FastAPI"
   ]
  },
  {
   "cell_type": "code",
   "execution_count": 16,
   "id": "antique-intersection",
   "metadata": {},
   "outputs": [],
   "source": [
    "app = FastAPI()\n",
    "@app.get(\"/find_actor_by_pic\")\n",
    "def find_actor_by_pic(url):\n",
    "    return {\"actor\": \"Woody Harrelson\"}"
   ]
  },
  {
   "cell_type": "code",
   "execution_count": 17,
   "id": "greater-match",
   "metadata": {},
   "outputs": [],
   "source": [
    "import requests"
   ]
  },
  {
   "cell_type": "code",
   "execution_count": 23,
   "id": "loaded-armor",
   "metadata": {},
   "outputs": [
    {
     "data": {
      "text/plain": [
       "{'Status': 'OK'}"
      ]
     },
     "execution_count": 23,
     "metadata": {},
     "output_type": "execute_result"
    }
   ],
   "source": [
    "url = \"http://localhost:8000/test\"\n",
    "\n",
    "params = {\n",
    "    \"param\": 3\n",
    "}\n",
    "\n",
    "response = requests.get(url,params)\n",
    "response.json()"
   ]
  },
  {
   "cell_type": "code",
   "execution_count": null,
   "id": "divine-settle",
   "metadata": {},
   "outputs": [],
   "source": [
    "|"
   ]
  }
 ],
 "metadata": {
  "kernelspec": {
   "display_name": "Python 3",
   "language": "python",
   "name": "python3"
  },
  "language_info": {
   "codemirror_mode": {
    "name": "ipython",
    "version": 3
   },
   "file_extension": ".py",
   "mimetype": "text/x-python",
   "name": "python",
   "nbconvert_exporter": "python",
   "pygments_lexer": "ipython3",
   "version": "3.8.6"
  }
 },
 "nbformat": 4,
 "nbformat_minor": 5
}
