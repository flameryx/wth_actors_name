{
 "cells": [
  {
   "cell_type": "code",
   "execution_count": 1,
   "id": "solid-christopher",
   "metadata": {},
   "outputs": [],
   "source": [
    "import pandas as pd \n",
    "import toolbox as tb"
   ]
  },
  {
   "cell_type": "code",
   "execution_count": 34,
   "id": "increasing-cookbook",
   "metadata": {},
   "outputs": [],
   "source": [
    "def find_new_movies(movie_names, df):\n",
    "\n",
    "    old_titles = list(movie_csv[\"primaryTitle\"])\n",
    "    new_titles = []\n",
    "\n",
    "    for movie in movie_names:\n",
    "        \n",
    "        if movie[:-7] not in old_titles:\n",
    "            new_titles.append(movie)\n",
    "    \n",
    "    return new_titles\n",
    "\n",
    "\n",
    "\n",
    "def find_movies_id(movie_names, df):\n",
    "\n",
    "    new_df = pd.DataFrame()\n",
    "    counter = 0\n",
    "\n",
    "    with open(\"../wth_actors_name/data/movie_names_not_found.txt\", \"a\") as f:\n",
    "\n",
    "        for movie in movie_names:\n",
    "            title = movie[:-7]\n",
    "            year = movie[-5:-1]\n",
    "\n",
    "            new_row = df[(df[\"titleType\"] == \"movie\") & (df[\"primaryTitle\"] == title) & (df[\"startYear\"] == year)]\n",
    "            if len(new_row == 0):\n",
    "                f.write(movie)\n",
    "                \n",
    "            new_df = new_df.append(new_row)\n",
    "            counter += 1\n",
    "            print(counter, end=\"  \", flush=True)\n",
    "\n",
    "    print()\n",
    "    return new_df\n",
    "\n",
    "\n",
    "def find_my_movies(movie_ids_list, df):\n",
    "\n",
    "    new_df = pd.DataFrame()\n",
    "    counter = 0\n",
    "\n",
    "    for movie_id in movie_ids_list:\n",
    "        new_df = new_df.append(df[df[\"tconst\"] == movie_id])\n",
    "        counter += 1\n",
    "        print(counter, end=\"  \", flush=True)\n",
    "\n",
    "    \n",
    "    print()\n",
    "    print(\"ALL MY_MOVIES FOUND\")\n",
    "    print()\n",
    "    return new_df"
   ]
  },
  {
   "cell_type": "code",
   "execution_count": 3,
   "id": "complicated-letter",
   "metadata": {},
   "outputs": [],
   "source": [
    "movie_names = tb.get_movie_names_list()\n",
    "movie_csv = tb.get_main_movie_csv()"
   ]
  },
  {
   "cell_type": "code",
   "execution_count": 4,
   "id": "tight-governor",
   "metadata": {},
   "outputs": [],
   "source": [
    "movie_names = find_new_movies(movie_names, movie_csv)"
   ]
  },
  {
   "cell_type": "code",
   "execution_count": 5,
   "id": "basic-psychology",
   "metadata": {
    "scrolled": true
   },
   "outputs": [
    {
     "name": "stderr",
     "output_type": "stream",
     "text": [
      "/home/flameryx/.pyenv/versions/3.8.6/envs/wth_actors_name/lib/python3.8/site-packages/IPython/core/interactiveshell.py:3165: DtypeWarning: Columns (4,5) have mixed types.Specify dtype option on import or set low_memory=False.\n",
      "  has_raised = await self.run_ast_nodes(code_ast.body, cell_name,\n"
     ]
    }
   ],
   "source": [
    "title_basics = pd.read_csv(\"../raw_data/imdb_datasets/films/title_basics.tsv\", sep=\"\\t\")"
   ]
  },
  {
   "cell_type": "code",
   "execution_count": 6,
   "id": "chinese-eight",
   "metadata": {
    "scrolled": true
   },
   "outputs": [
    {
     "name": "stdout",
     "output_type": "stream",
     "text": [
      "1  2  3  4  5  6  7  8  9  10  11  12  13  14  15  16  17  18  19  20  21  22  23  24  25  26  27  28  29  30  31  32  33  34  35  36  37  38  39  40  41  42  43  44  45  46  47  48  49  50  51  52  53  54  55  56  57  58  59  60  61  62  63  64  65  66  67  68  69  70  71  72  73  74  75  76  77  78  79  80  81  82  83  84  85  86  87  88  89  90  91  92  93  94  95  96  97  98  99  100  101  102  103  104  105  106  107  108  109  110  111  112  113  114  115  116  117  118  119  120  121  122  123  124  125  126  127  128  129  130  131  132  133  134  135  136  137  138  139  140  141  142  143  144  145  146  147  148  149  150  151  152  153  154  155  156  157  158  159  160  161  162  163  164  165  166  167  168  169  170  171  172  173  174  175  176  177  178  179  180  181  182  183  184  185  186  187  188  189  190  191  192  193  194  195  196  197  198  199  200  201  202  203  204  205  206  207  208  209  210  211  212  213  214  215  216  217  218  219  220  221  222  223  224  225  226  227  228  229  230  231  232  233  234  235  236  237  238  239  240  241  242  243  244  245  246  247  248  249  250  251  252  253  254  255  256  257  258  259  260  261  262  263  264  265  266  267  268  269  270  271  272  273  274  275  276  277  278  279  280  281  282  283  284  285  286  287  288  289  290  291  292  293  294  295  296  297  298  299  300  301  302  303  304  305  306  307  308  309  310  311  312  313  314  315  316  \n"
     ]
    }
   ],
   "source": [
    "all_movie_data = find_movies_id(movie_names, title_basics)"
   ]
  },
  {
   "cell_type": "code",
   "execution_count": 7,
   "id": "thousand-clause",
   "metadata": {},
   "outputs": [],
   "source": [
    "movies_id_list = list(all_movie_data[\"tconst\"])"
   ]
  },
  {
   "cell_type": "code",
   "execution_count": 9,
   "id": "cross-milan",
   "metadata": {},
   "outputs": [],
   "source": [
    "title_ratings = pd.read_csv(\"../raw_data/imdb_datasets/films/title_ratings.tsv\", sep=\"\\t\")"
   ]
  },
  {
   "cell_type": "code",
   "execution_count": 38,
   "id": "novel-softball",
   "metadata": {},
   "outputs": [
    {
     "name": "stdout",
     "output_type": "stream",
     "text": [
      "\n",
      "ALL MY_MOVIES FOUND\n",
      "\n"
     ]
    }
   ],
   "source": [
    "my_title_ratings = find_my_movies(movies_id_list, title_ratings)"
   ]
  },
  {
   "cell_type": "code",
   "execution_count": 33,
   "id": "executive-antique",
   "metadata": {},
   "outputs": [
    {
     "data": {
      "text/html": [
       "<div>\n",
       "<style scoped>\n",
       "    .dataframe tbody tr th:only-of-type {\n",
       "        vertical-align: middle;\n",
       "    }\n",
       "\n",
       "    .dataframe tbody tr th {\n",
       "        vertical-align: top;\n",
       "    }\n",
       "\n",
       "    .dataframe thead th {\n",
       "        text-align: right;\n",
       "    }\n",
       "</style>\n",
       "<table border=\"1\" class=\"dataframe\">\n",
       "  <thead>\n",
       "    <tr style=\"text-align: right;\">\n",
       "      <th></th>\n",
       "      <th>tconst</th>\n",
       "      <th>titleType</th>\n",
       "      <th>primaryTitle</th>\n",
       "      <th>originalTitle</th>\n",
       "      <th>isAdult</th>\n",
       "      <th>startYear</th>\n",
       "      <th>endYear</th>\n",
       "      <th>runtimeMinutes</th>\n",
       "      <th>genres</th>\n",
       "    </tr>\n",
       "  </thead>\n",
       "  <tbody>\n",
       "  </tbody>\n",
       "</table>\n",
       "</div>"
      ],
      "text/plain": [
       "Empty DataFrame\n",
       "Columns: [tconst, titleType, primaryTitle, originalTitle, isAdult, startYear, endYear, runtimeMinutes, genres]\n",
       "Index: []"
      ]
     },
     "execution_count": 33,
     "metadata": {},
     "output_type": "execute_result"
    }
   ],
   "source": [
    "all_movie_data"
   ]
  },
  {
   "cell_type": "code",
   "execution_count": 36,
   "id": "historic-flavor",
   "metadata": {},
   "outputs": [
    {
     "data": {
      "text/html": [
       "<div>\n",
       "<style scoped>\n",
       "    .dataframe tbody tr th:only-of-type {\n",
       "        vertical-align: middle;\n",
       "    }\n",
       "\n",
       "    .dataframe tbody tr th {\n",
       "        vertical-align: top;\n",
       "    }\n",
       "\n",
       "    .dataframe thead th {\n",
       "        text-align: right;\n",
       "    }\n",
       "</style>\n",
       "<table border=\"1\" class=\"dataframe\">\n",
       "  <thead>\n",
       "    <tr style=\"text-align: right;\">\n",
       "      <th></th>\n",
       "      <th>titleType</th>\n",
       "      <th>primaryTitle</th>\n",
       "      <th>originalTitle</th>\n",
       "      <th>isAdult</th>\n",
       "      <th>startYear</th>\n",
       "      <th>endYear</th>\n",
       "      <th>runtimeMinutes</th>\n",
       "      <th>genres</th>\n",
       "    </tr>\n",
       "    <tr>\n",
       "      <th>tconst</th>\n",
       "      <th></th>\n",
       "      <th></th>\n",
       "      <th></th>\n",
       "      <th></th>\n",
       "      <th></th>\n",
       "      <th></th>\n",
       "      <th></th>\n",
       "      <th></th>\n",
       "    </tr>\n",
       "  </thead>\n",
       "  <tbody>\n",
       "  </tbody>\n",
       "</table>\n",
       "</div>"
      ],
      "text/plain": [
       "Empty DataFrame\n",
       "Columns: [titleType, primaryTitle, originalTitle, isAdult, startYear, endYear, runtimeMinutes, genres]\n",
       "Index: []"
      ]
     },
     "execution_count": 36,
     "metadata": {},
     "output_type": "execute_result"
    }
   ],
   "source": [
    "all_movie_data.set_index(\"tconst\").join()"
   ]
  },
  {
   "cell_type": "code",
   "execution_count": 40,
   "id": "medieval-detail",
   "metadata": {},
   "outputs": [
    {
     "data": {
      "text/plain": [
       "pandas.core.frame.DataFrame"
      ]
     },
     "execution_count": 40,
     "metadata": {},
     "output_type": "execute_result"
    }
   ],
   "source": []
  },
  {
   "cell_type": "code",
   "execution_count": null,
   "id": "generic-hopkins",
   "metadata": {},
   "outputs": [],
   "source": []
  }
 ],
 "metadata": {
  "kernelspec": {
   "display_name": "Python 3",
   "language": "python",
   "name": "python3"
  },
  "language_info": {
   "codemirror_mode": {
    "name": "ipython",
    "version": 3
   },
   "file_extension": ".py",
   "mimetype": "text/x-python",
   "name": "python",
   "nbconvert_exporter": "python",
   "pygments_lexer": "ipython3",
   "version": "3.8.6"
  }
 },
 "nbformat": 4,
 "nbformat_minor": 5
}
