{
 "cells": [
  {
   "cell_type": "code",
   "execution_count": 3,
   "id": "speaking-accuracy",
   "metadata": {},
   "outputs": [],
   "source": [
    "from imdb import IMDb"
   ]
  },
  {
   "cell_type": "code",
   "execution_count": 48,
   "id": "lonely-pattern",
   "metadata": {},
   "outputs": [],
   "source": [
    "ia = IMDb()\n",
    "\n",
    "# get a movie and print its director(s)\n",
    "the_matrix = ia.get_movie('0133093')"
   ]
  },
  {
   "cell_type": "markdown",
   "id": "frequent-range",
   "metadata": {},
   "source": [
    "## IMDBpy is useless for names"
   ]
  },
  {
   "cell_type": "code",
   "execution_count": 43,
   "id": "based-blues",
   "metadata": {},
   "outputs": [
    {
     "data": {
      "text/plain": [
       "['name',\n",
       " 'headshot',\n",
       " 'canonical name',\n",
       " 'long imdb name',\n",
       " 'long imdb canonical name',\n",
       " 'full-size headshot']"
      ]
     },
     "execution_count": 43,
     "metadata": {},
     "output_type": "execute_result"
    }
   ],
   "source": [
    "keanu.keys()"
   ]
  },
  {
   "cell_type": "markdown",
   "id": "polished-mining",
   "metadata": {},
   "source": [
    "## But it is very good for movies"
   ]
  },
  {
   "cell_type": "code",
   "execution_count": 21,
   "id": "advised-easter",
   "metadata": {},
   "outputs": [
    {
     "data": {
      "text/plain": [
       "['original title',\n",
       " 'cast',\n",
       " 'genres',\n",
       " 'runtimes',\n",
       " 'countries',\n",
       " 'country codes',\n",
       " 'language codes',\n",
       " 'color info',\n",
       " 'aspect ratio',\n",
       " 'sound mix',\n",
       " 'box office',\n",
       " 'certificates',\n",
       " 'original air date',\n",
       " 'rating',\n",
       " 'votes',\n",
       " 'cover url',\n",
       " 'imdbID',\n",
       " 'plot outline',\n",
       " 'languages',\n",
       " 'title',\n",
       " 'year',\n",
       " 'kind',\n",
       " 'directors',\n",
       " 'writers',\n",
       " 'producers',\n",
       " 'composers',\n",
       " 'cinematographers',\n",
       " 'editors',\n",
       " 'editorial department',\n",
       " 'casting directors',\n",
       " 'production designers',\n",
       " 'art directors',\n",
       " 'set decorators',\n",
       " 'costume designers',\n",
       " 'make up department',\n",
       " 'production managers',\n",
       " 'assistant directors',\n",
       " 'art department',\n",
       " 'sound department',\n",
       " 'special effects',\n",
       " 'visual effects',\n",
       " 'stunts',\n",
       " 'camera department',\n",
       " 'animation department',\n",
       " 'casting department',\n",
       " 'costume departmen',\n",
       " 'location management',\n",
       " 'music department',\n",
       " 'script department',\n",
       " 'transportation department',\n",
       " 'miscellaneous',\n",
       " 'akas',\n",
       " 'writer',\n",
       " 'director',\n",
       " 'top 250 rank',\n",
       " 'production companies',\n",
       " 'distributors',\n",
       " 'special effects companies',\n",
       " 'other companies',\n",
       " 'plot',\n",
       " 'synopsis',\n",
       " 'canonical title',\n",
       " 'long imdb title',\n",
       " 'long imdb canonical title',\n",
       " 'smart canonical title',\n",
       " 'smart long imdb canonical title',\n",
       " 'full-size cover url']"
      ]
     },
     "execution_count": 21,
     "metadata": {},
     "output_type": "execute_result"
    }
   ],
   "source": [
    "the_matrix.keys()"
   ]
  },
  {
   "cell_type": "markdown",
   "id": "worse-spoke",
   "metadata": {},
   "source": [
    "## Correction: it is only good for The Matrix"
   ]
  },
  {
   "cell_type": "code",
   "execution_count": 69,
   "id": "broad-hometown",
   "metadata": {},
   "outputs": [
    {
     "data": {
      "text/plain": [
       "['title',\n",
       " 'kind',\n",
       " 'year',\n",
       " 'cover url',\n",
       " 'canonical title',\n",
       " 'long imdb title',\n",
       " 'long imdb canonical title',\n",
       " 'smart canonical title',\n",
       " 'smart long imdb canonical title',\n",
       " 'full-size cover url']"
      ]
     },
     "execution_count": 69,
     "metadata": {},
     "output_type": "execute_result"
    }
   ],
   "source": [
    "pulp_fiction = ia.search_movie(\"Pulp Fiction\")[0]\n",
    "pulp_fiction.keys()"
   ]
  },
  {
   "cell_type": "code",
   "execution_count": 70,
   "id": "divided-payment",
   "metadata": {},
   "outputs": [
    {
     "data": {
      "text/plain": [
       "['title',\n",
       " 'kind',\n",
       " 'year',\n",
       " 'cover url',\n",
       " 'canonical title',\n",
       " 'long imdb title',\n",
       " 'long imdb canonical title',\n",
       " 'smart canonical title',\n",
       " 'smart long imdb canonical title',\n",
       " 'full-size cover url']"
      ]
     },
     "execution_count": 70,
     "metadata": {},
     "output_type": "execute_result"
    }
   ],
   "source": [
    "godfather = ia.search_movie(\"The Godfather\")[0]\n",
    "godfather.keys()"
   ]
  },
  {
   "cell_type": "code",
   "execution_count": 71,
   "id": "corrected-texas",
   "metadata": {},
   "outputs": [
    {
     "data": {
      "text/plain": [
       "['title',\n",
       " 'kind',\n",
       " 'year',\n",
       " 'cover url',\n",
       " 'canonical title',\n",
       " 'long imdb title',\n",
       " 'long imdb canonical title',\n",
       " 'smart canonical title',\n",
       " 'smart long imdb canonical title',\n",
       " 'full-size cover url']"
      ]
     },
     "execution_count": 71,
     "metadata": {},
     "output_type": "execute_result"
    }
   ],
   "source": [
    "forrest_gump = ia.search_movie(\"Forrest Gump\")[0]\n",
    "forrest_gump.keys()"
   ]
  }
 ],
 "metadata": {
  "kernelspec": {
   "display_name": "Python 3",
   "language": "python",
   "name": "python3"
  },
  "language_info": {
   "codemirror_mode": {
    "name": "ipython",
    "version": 3
   },
   "file_extension": ".py",
   "mimetype": "text/x-python",
   "name": "python",
   "nbconvert_exporter": "python",
   "pygments_lexer": "ipython3",
   "version": "3.8.6"
  }
 },
 "nbformat": 4,
 "nbformat_minor": 5
}
