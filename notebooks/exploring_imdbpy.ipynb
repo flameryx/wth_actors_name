{
 "cells": [
  {
   "cell_type": "code",
   "execution_count": 23,
   "id": "solid-christopher",
   "metadata": {},
   "outputs": [],
   "source": [
    "import pandas as pd \n",
    "import toolbox as tb"
   ]
  },
  {
   "cell_type": "code",
   "execution_count": 124,
   "id": "cross-milan",
   "metadata": {},
   "outputs": [],
   "source": [
    "title_basics = pd.read_csv(\"../raw_data/imdb_datasets/films/title_crew.tsv\", sep=\"\\t\")"
   ]
  },
  {
   "cell_type": "code",
   "execution_count": 121,
   "id": "surrounded-production",
   "metadata": {
    "scrolled": false
   },
   "outputs": [
    {
     "name": "stderr",
     "output_type": "stream",
     "text": [
      "/home/flameryx/.pyenv/versions/3.8.6/envs/wth_actors_name/lib/python3.8/site-packages/IPython/core/interactiveshell.py:3165: DtypeWarning: Columns (4,5) have mixed types.Specify dtype option on import or set low_memory=False.\n",
      "  has_raised = await self.run_ast_nodes(code_ast.body, cell_name,\n"
     ]
    }
   ],
   "source": [
    "title_ratings = pd.read_csv(\"../raw_data/title_basics_original.tsv\", sep=\"\\t\")"
   ]
  },
  {
   "cell_type": "code",
   "execution_count": 125,
   "id": "earned-natural",
   "metadata": {},
   "outputs": [
    {
     "data": {
      "text/html": [
       "<div>\n",
       "<style scoped>\n",
       "    .dataframe tbody tr th:only-of-type {\n",
       "        vertical-align: middle;\n",
       "    }\n",
       "\n",
       "    .dataframe tbody tr th {\n",
       "        vertical-align: top;\n",
       "    }\n",
       "\n",
       "    .dataframe thead th {\n",
       "        text-align: right;\n",
       "    }\n",
       "</style>\n",
       "<table border=\"1\" class=\"dataframe\">\n",
       "  <thead>\n",
       "    <tr style=\"text-align: right;\">\n",
       "      <th></th>\n",
       "      <th>tconst</th>\n",
       "      <th>directors</th>\n",
       "      <th>writers</th>\n",
       "    </tr>\n",
       "  </thead>\n",
       "  <tbody>\n",
       "    <tr>\n",
       "      <th>0</th>\n",
       "      <td>tt0000001</td>\n",
       "      <td>nm0005690</td>\n",
       "      <td>\\N</td>\n",
       "    </tr>\n",
       "    <tr>\n",
       "      <th>1</th>\n",
       "      <td>tt0000002</td>\n",
       "      <td>nm0721526</td>\n",
       "      <td>\\N</td>\n",
       "    </tr>\n",
       "    <tr>\n",
       "      <th>2</th>\n",
       "      <td>tt0000003</td>\n",
       "      <td>nm0721526</td>\n",
       "      <td>\\N</td>\n",
       "    </tr>\n",
       "    <tr>\n",
       "      <th>3</th>\n",
       "      <td>tt0000004</td>\n",
       "      <td>nm0721526</td>\n",
       "      <td>\\N</td>\n",
       "    </tr>\n",
       "    <tr>\n",
       "      <th>4</th>\n",
       "      <td>tt0000005</td>\n",
       "      <td>nm0005690</td>\n",
       "      <td>\\N</td>\n",
       "    </tr>\n",
       "    <tr>\n",
       "      <th>...</th>\n",
       "      <td>...</td>\n",
       "      <td>...</td>\n",
       "      <td>...</td>\n",
       "    </tr>\n",
       "    <tr>\n",
       "      <th>7665181</th>\n",
       "      <td>tt9916848</td>\n",
       "      <td>nm5519454,nm5519375</td>\n",
       "      <td>nm6182221,nm1628284,nm2921377</td>\n",
       "    </tr>\n",
       "    <tr>\n",
       "      <th>7665182</th>\n",
       "      <td>tt9916850</td>\n",
       "      <td>nm5519454,nm5519375</td>\n",
       "      <td>nm6182221,nm1628284,nm2921377</td>\n",
       "    </tr>\n",
       "    <tr>\n",
       "      <th>7665183</th>\n",
       "      <td>tt9916852</td>\n",
       "      <td>nm5519454,nm5519375</td>\n",
       "      <td>nm6182221,nm1628284,nm2921377</td>\n",
       "    </tr>\n",
       "    <tr>\n",
       "      <th>7665184</th>\n",
       "      <td>tt9916856</td>\n",
       "      <td>nm10538645</td>\n",
       "      <td>nm6951431</td>\n",
       "    </tr>\n",
       "    <tr>\n",
       "      <th>7665185</th>\n",
       "      <td>tt9916880</td>\n",
       "      <td>nm0996406</td>\n",
       "      <td>nm1482639,nm2586970</td>\n",
       "    </tr>\n",
       "  </tbody>\n",
       "</table>\n",
       "<p>7665186 rows × 3 columns</p>\n",
       "</div>"
      ],
      "text/plain": [
       "            tconst            directors                        writers\n",
       "0        tt0000001            nm0005690                             \\N\n",
       "1        tt0000002            nm0721526                             \\N\n",
       "2        tt0000003            nm0721526                             \\N\n",
       "3        tt0000004            nm0721526                             \\N\n",
       "4        tt0000005            nm0005690                             \\N\n",
       "...            ...                  ...                            ...\n",
       "7665181  tt9916848  nm5519454,nm5519375  nm6182221,nm1628284,nm2921377\n",
       "7665182  tt9916850  nm5519454,nm5519375  nm6182221,nm1628284,nm2921377\n",
       "7665183  tt9916852  nm5519454,nm5519375  nm6182221,nm1628284,nm2921377\n",
       "7665184  tt9916856           nm10538645                      nm6951431\n",
       "7665185  tt9916880            nm0996406            nm1482639,nm2586970\n",
       "\n",
       "[7665186 rows x 3 columns]"
      ]
     },
     "execution_count": 125,
     "metadata": {},
     "output_type": "execute_result"
    }
   ],
   "source": [
    "title_basics"
   ]
  },
  {
   "cell_type": "code",
   "execution_count": 60,
   "id": "unlimited-marketing",
   "metadata": {},
   "outputs": [
    {
     "data": {
      "text/html": [
       "<div>\n",
       "<style scoped>\n",
       "    .dataframe tbody tr th:only-of-type {\n",
       "        vertical-align: middle;\n",
       "    }\n",
       "\n",
       "    .dataframe tbody tr th {\n",
       "        vertical-align: top;\n",
       "    }\n",
       "\n",
       "    .dataframe thead th {\n",
       "        text-align: right;\n",
       "    }\n",
       "</style>\n",
       "<table border=\"1\" class=\"dataframe\">\n",
       "  <thead>\n",
       "    <tr style=\"text-align: right;\">\n",
       "      <th></th>\n",
       "      <th>tconst</th>\n",
       "      <th>averageRating</th>\n",
       "      <th>numVotes</th>\n",
       "    </tr>\n",
       "  </thead>\n",
       "  <tbody>\n",
       "    <tr>\n",
       "      <th>0</th>\n",
       "      <td>tt0000001</td>\n",
       "      <td>5.7</td>\n",
       "      <td>1687</td>\n",
       "    </tr>\n",
       "    <tr>\n",
       "      <th>1</th>\n",
       "      <td>tt0000002</td>\n",
       "      <td>6.0</td>\n",
       "      <td>208</td>\n",
       "    </tr>\n",
       "    <tr>\n",
       "      <th>2</th>\n",
       "      <td>tt0000003</td>\n",
       "      <td>6.5</td>\n",
       "      <td>1427</td>\n",
       "    </tr>\n",
       "    <tr>\n",
       "      <th>3</th>\n",
       "      <td>tt0000004</td>\n",
       "      <td>6.1</td>\n",
       "      <td>122</td>\n",
       "    </tr>\n",
       "    <tr>\n",
       "      <th>4</th>\n",
       "      <td>tt0000005</td>\n",
       "      <td>6.1</td>\n",
       "      <td>2224</td>\n",
       "    </tr>\n",
       "    <tr>\n",
       "      <th>...</th>\n",
       "      <td>...</td>\n",
       "      <td>...</td>\n",
       "      <td>...</td>\n",
       "    </tr>\n",
       "    <tr>\n",
       "      <th>1127682</th>\n",
       "      <td>tt9916580</td>\n",
       "      <td>7.2</td>\n",
       "      <td>5</td>\n",
       "    </tr>\n",
       "    <tr>\n",
       "      <th>1127683</th>\n",
       "      <td>tt9916690</td>\n",
       "      <td>6.6</td>\n",
       "      <td>5</td>\n",
       "    </tr>\n",
       "    <tr>\n",
       "      <th>1127684</th>\n",
       "      <td>tt9916720</td>\n",
       "      <td>6.2</td>\n",
       "      <td>72</td>\n",
       "    </tr>\n",
       "    <tr>\n",
       "      <th>1127685</th>\n",
       "      <td>tt9916766</td>\n",
       "      <td>6.9</td>\n",
       "      <td>16</td>\n",
       "    </tr>\n",
       "    <tr>\n",
       "      <th>1127686</th>\n",
       "      <td>tt9916778</td>\n",
       "      <td>7.4</td>\n",
       "      <td>26</td>\n",
       "    </tr>\n",
       "  </tbody>\n",
       "</table>\n",
       "<p>1127687 rows × 3 columns</p>\n",
       "</div>"
      ],
      "text/plain": [
       "            tconst  averageRating  numVotes\n",
       "0        tt0000001            5.7      1687\n",
       "1        tt0000002            6.0       208\n",
       "2        tt0000003            6.5      1427\n",
       "3        tt0000004            6.1       122\n",
       "4        tt0000005            6.1      2224\n",
       "...            ...            ...       ...\n",
       "1127682  tt9916580            7.2         5\n",
       "1127683  tt9916690            6.6         5\n",
       "1127684  tt9916720            6.2        72\n",
       "1127685  tt9916766            6.9        16\n",
       "1127686  tt9916778            7.4        26\n",
       "\n",
       "[1127687 rows x 3 columns]"
      ]
     },
     "execution_count": 60,
     "metadata": {},
     "output_type": "execute_result"
    }
   ],
   "source": [
    "title_ratings"
   ]
  },
  {
   "cell_type": "code",
   "execution_count": 61,
   "id": "governmental-trail",
   "metadata": {},
   "outputs": [
    {
     "data": {
      "text/html": [
       "<div>\n",
       "<style scoped>\n",
       "    .dataframe tbody tr th:only-of-type {\n",
       "        vertical-align: middle;\n",
       "    }\n",
       "\n",
       "    .dataframe tbody tr th {\n",
       "        vertical-align: top;\n",
       "    }\n",
       "\n",
       "    .dataframe thead th {\n",
       "        text-align: right;\n",
       "    }\n",
       "</style>\n",
       "<table border=\"1\" class=\"dataframe\">\n",
       "  <thead>\n",
       "    <tr style=\"text-align: right;\">\n",
       "      <th></th>\n",
       "      <th>tconst</th>\n",
       "      <th>titleType</th>\n",
       "      <th>primaryTitle</th>\n",
       "      <th>originalTitle</th>\n",
       "      <th>isAdult</th>\n",
       "      <th>startYear</th>\n",
       "      <th>endYear</th>\n",
       "      <th>runtimeMinutes</th>\n",
       "      <th>genres</th>\n",
       "    </tr>\n",
       "  </thead>\n",
       "  <tbody>\n",
       "    <tr>\n",
       "      <th>0</th>\n",
       "      <td>tt0000574</td>\n",
       "      <td>movie</td>\n",
       "      <td>The Story of the Kelly Gang</td>\n",
       "      <td>The Story of the Kelly Gang</td>\n",
       "      <td>0</td>\n",
       "      <td>1906</td>\n",
       "      <td>\\N</td>\n",
       "      <td>70</td>\n",
       "      <td>Action,Adventure,Biography</td>\n",
       "    </tr>\n",
       "    <tr>\n",
       "      <th>1</th>\n",
       "      <td>tt0000679</td>\n",
       "      <td>movie</td>\n",
       "      <td>The Fairylogue and Radio-Plays</td>\n",
       "      <td>The Fairylogue and Radio-Plays</td>\n",
       "      <td>0</td>\n",
       "      <td>1908</td>\n",
       "      <td>\\N</td>\n",
       "      <td>120</td>\n",
       "      <td>Adventure,Fantasy</td>\n",
       "    </tr>\n",
       "    <tr>\n",
       "      <th>2</th>\n",
       "      <td>tt0001184</td>\n",
       "      <td>movie</td>\n",
       "      <td>Don Juan de Serrallonga</td>\n",
       "      <td>Don Juan de Serrallonga</td>\n",
       "      <td>0</td>\n",
       "      <td>1910</td>\n",
       "      <td>\\N</td>\n",
       "      <td>58</td>\n",
       "      <td>Adventure,Drama</td>\n",
       "    </tr>\n",
       "    <tr>\n",
       "      <th>3</th>\n",
       "      <td>tt0001258</td>\n",
       "      <td>movie</td>\n",
       "      <td>The White Slave Trade</td>\n",
       "      <td>Den hvide slavehandel</td>\n",
       "      <td>0</td>\n",
       "      <td>1910</td>\n",
       "      <td>\\N</td>\n",
       "      <td>45</td>\n",
       "      <td>Drama</td>\n",
       "    </tr>\n",
       "    <tr>\n",
       "      <th>4</th>\n",
       "      <td>tt0001285</td>\n",
       "      <td>movie</td>\n",
       "      <td>The Life of Moses</td>\n",
       "      <td>The Life of Moses</td>\n",
       "      <td>0</td>\n",
       "      <td>1909</td>\n",
       "      <td>\\N</td>\n",
       "      <td>50</td>\n",
       "      <td>Biography,Drama,Family</td>\n",
       "    </tr>\n",
       "    <tr>\n",
       "      <th>...</th>\n",
       "      <td>...</td>\n",
       "      <td>...</td>\n",
       "      <td>...</td>\n",
       "      <td>...</td>\n",
       "      <td>...</td>\n",
       "      <td>...</td>\n",
       "      <td>...</td>\n",
       "      <td>...</td>\n",
       "      <td>...</td>\n",
       "    </tr>\n",
       "    <tr>\n",
       "      <th>330827</th>\n",
       "      <td>tt9916362</td>\n",
       "      <td>movie</td>\n",
       "      <td>Coven</td>\n",
       "      <td>Akelarre</td>\n",
       "      <td>0</td>\n",
       "      <td>2020</td>\n",
       "      <td>\\N</td>\n",
       "      <td>90</td>\n",
       "      <td>Action,Adventure,Drama</td>\n",
       "    </tr>\n",
       "    <tr>\n",
       "      <th>330828</th>\n",
       "      <td>tt9916538</td>\n",
       "      <td>movie</td>\n",
       "      <td>Kuambil Lagi Hatiku</td>\n",
       "      <td>Kuambil Lagi Hatiku</td>\n",
       "      <td>0</td>\n",
       "      <td>2019</td>\n",
       "      <td>\\N</td>\n",
       "      <td>123</td>\n",
       "      <td>Drama</td>\n",
       "    </tr>\n",
       "    <tr>\n",
       "      <th>330829</th>\n",
       "      <td>tt9916622</td>\n",
       "      <td>movie</td>\n",
       "      <td>Rodolpho Teóphilo - O Legado de um Pioneiro</td>\n",
       "      <td>Rodolpho Teóphilo - O Legado de um Pioneiro</td>\n",
       "      <td>0</td>\n",
       "      <td>2015</td>\n",
       "      <td>\\N</td>\n",
       "      <td>57</td>\n",
       "      <td>Documentary</td>\n",
       "    </tr>\n",
       "    <tr>\n",
       "      <th>330830</th>\n",
       "      <td>tt9916680</td>\n",
       "      <td>movie</td>\n",
       "      <td>De la ilusión al desconcierto: cine colombiano...</td>\n",
       "      <td>De la ilusión al desconcierto: cine colombiano...</td>\n",
       "      <td>0</td>\n",
       "      <td>2007</td>\n",
       "      <td>\\N</td>\n",
       "      <td>100</td>\n",
       "      <td>Documentary</td>\n",
       "    </tr>\n",
       "    <tr>\n",
       "      <th>330831</th>\n",
       "      <td>tt9916754</td>\n",
       "      <td>movie</td>\n",
       "      <td>Chico Albuquerque - Revelações</td>\n",
       "      <td>Chico Albuquerque - Revelações</td>\n",
       "      <td>0</td>\n",
       "      <td>2013</td>\n",
       "      <td>\\N</td>\n",
       "      <td>49</td>\n",
       "      <td>Documentary</td>\n",
       "    </tr>\n",
       "  </tbody>\n",
       "</table>\n",
       "<p>330832 rows × 9 columns</p>\n",
       "</div>"
      ],
      "text/plain": [
       "           tconst titleType  \\\n",
       "0       tt0000574     movie   \n",
       "1       tt0000679     movie   \n",
       "2       tt0001184     movie   \n",
       "3       tt0001258     movie   \n",
       "4       tt0001285     movie   \n",
       "...           ...       ...   \n",
       "330827  tt9916362     movie   \n",
       "330828  tt9916538     movie   \n",
       "330829  tt9916622     movie   \n",
       "330830  tt9916680     movie   \n",
       "330831  tt9916754     movie   \n",
       "\n",
       "                                             primaryTitle  \\\n",
       "0                             The Story of the Kelly Gang   \n",
       "1                          The Fairylogue and Radio-Plays   \n",
       "2                                 Don Juan de Serrallonga   \n",
       "3                                   The White Slave Trade   \n",
       "4                                       The Life of Moses   \n",
       "...                                                   ...   \n",
       "330827                                              Coven   \n",
       "330828                                Kuambil Lagi Hatiku   \n",
       "330829        Rodolpho Teóphilo - O Legado de um Pioneiro   \n",
       "330830  De la ilusión al desconcierto: cine colombiano...   \n",
       "330831                     Chico Albuquerque - Revelações   \n",
       "\n",
       "                                            originalTitle  isAdult  startYear  \\\n",
       "0                             The Story of the Kelly Gang        0       1906   \n",
       "1                          The Fairylogue and Radio-Plays        0       1908   \n",
       "2                                 Don Juan de Serrallonga        0       1910   \n",
       "3                                   Den hvide slavehandel        0       1910   \n",
       "4                                       The Life of Moses        0       1909   \n",
       "...                                                   ...      ...        ...   \n",
       "330827                                           Akelarre        0       2020   \n",
       "330828                                Kuambil Lagi Hatiku        0       2019   \n",
       "330829        Rodolpho Teóphilo - O Legado de um Pioneiro        0       2015   \n",
       "330830  De la ilusión al desconcierto: cine colombiano...        0       2007   \n",
       "330831                     Chico Albuquerque - Revelações        0       2013   \n",
       "\n",
       "       endYear  runtimeMinutes                      genres  \n",
       "0           \\N              70  Action,Adventure,Biography  \n",
       "1           \\N             120           Adventure,Fantasy  \n",
       "2           \\N              58             Adventure,Drama  \n",
       "3           \\N              45                       Drama  \n",
       "4           \\N              50      Biography,Drama,Family  \n",
       "...        ...             ...                         ...  \n",
       "330827      \\N              90      Action,Adventure,Drama  \n",
       "330828      \\N             123                       Drama  \n",
       "330829      \\N              57                 Documentary  \n",
       "330830      \\N             100                 Documentary  \n",
       "330831      \\N              49                 Documentary  \n",
       "\n",
       "[330832 rows x 9 columns]"
      ]
     },
     "execution_count": 61,
     "metadata": {},
     "output_type": "execute_result"
    }
   ],
   "source": [
    "title_basics"
   ]
  },
  {
   "cell_type": "code",
   "execution_count": 92,
   "id": "fuzzy-battery",
   "metadata": {},
   "outputs": [
    {
     "data": {
      "text/plain": [
       "204361"
      ]
     },
     "execution_count": 92,
     "metadata": {},
     "output_type": "execute_result"
    }
   ],
   "source": [
    "len(chosen_ones)"
   ]
  },
  {
   "cell_type": "code",
   "execution_count": 103,
   "id": "progressive-shaft",
   "metadata": {},
   "outputs": [
    {
     "data": {
      "text/plain": [
       "238481"
      ]
     },
     "execution_count": 103,
     "metadata": {},
     "output_type": "execute_result"
    }
   ],
   "source": [
    "chosen_ones[-1]"
   ]
  },
  {
   "cell_type": "code",
   "execution_count": 106,
   "id": "satisfactory-candidate",
   "metadata": {},
   "outputs": [
    {
     "data": {
      "text/plain": [
       "'tt9916778'"
      ]
     },
     "execution_count": 106,
     "metadata": {},
     "output_type": "execute_result"
    }
   ],
   "source": [
    "ratings_tconst[-1]"
   ]
  },
  {
   "cell_type": "code",
   "execution_count": 100,
   "id": "supported-bacteria",
   "metadata": {},
   "outputs": [
    {
     "data": {
      "text/plain": [
       "tconst           tt0447382\n",
       "averageRating          6.7\n",
       "numVotes                30\n",
       "Name: 238482, dtype: object"
      ]
     },
     "execution_count": 100,
     "metadata": {},
     "output_type": "execute_result"
    }
   ],
   "source": [
    "title_ratings.loc[238482]"
   ]
  },
  {
   "cell_type": "code",
   "execution_count": 94,
   "id": "induced-variety",
   "metadata": {},
   "outputs": [
    {
     "data": {
      "text/plain": [
       "1127687"
      ]
     },
     "execution_count": 94,
     "metadata": {},
     "output_type": "execute_result"
    }
   ],
   "source": [
    "len(ratings_tconst)"
   ]
  },
  {
   "cell_type": "code",
   "execution_count": 95,
   "id": "adolescent-retro",
   "metadata": {},
   "outputs": [
    {
     "data": {
      "text/plain": [
       "'tt0447381'"
      ]
     },
     "execution_count": 95,
     "metadata": {},
     "output_type": "execute_result"
    }
   ],
   "source": [
    "ratings_tconst[238481]"
   ]
  },
  {
   "cell_type": "code",
   "execution_count": null,
   "id": "posted-grant",
   "metadata": {},
   "outputs": [],
   "source": []
  }
 ],
 "metadata": {
  "kernelspec": {
   "display_name": "Python 3",
   "language": "python",
   "name": "python3"
  },
  "language_info": {
   "codemirror_mode": {
    "name": "ipython",
    "version": 3
   },
   "file_extension": ".py",
   "mimetype": "text/x-python",
   "name": "python",
   "nbconvert_exporter": "python",
   "pygments_lexer": "ipython3",
   "version": "3.8.6"
  }
 },
 "nbformat": 4,
 "nbformat_minor": 5
}
