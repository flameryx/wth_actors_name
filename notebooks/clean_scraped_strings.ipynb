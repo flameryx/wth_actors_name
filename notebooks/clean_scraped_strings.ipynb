{
 "cells": [
  {
   "cell_type": "code",
   "execution_count": 1,
   "id": "backed-season",
   "metadata": {},
   "outputs": [],
   "source": [
    "import toolbox as tb\n",
    "import pandas as pd\n",
    "from bs4 import BeautifulSoup\n",
    "import requests"
   ]
  },
  {
   "cell_type": "code",
   "execution_count": 7,
   "id": "electric-portal",
   "metadata": {},
   "outputs": [],
   "source": [
    "movies_df = pd.read_csv(\"../wth_actors_name/tools/data_preparation/new_movies_scraped.csv\")"
   ]
  },
  {
   "cell_type": "markdown",
   "id": "nutritional-explanation",
   "metadata": {},
   "source": [
    "### Clean Actors"
   ]
  },
  {
   "cell_type": "code",
   "execution_count": 8,
   "id": "alone-narrow",
   "metadata": {},
   "outputs": [],
   "source": [
    "actors = list(movies_df[\"actors\"])"
   ]
  },
  {
   "cell_type": "code",
   "execution_count": 9,
   "id": "adjacent-robin",
   "metadata": {},
   "outputs": [],
   "source": [
    "for i, row in enumerate(actors):\n",
    "    if type(row) != float:\n",
    "        actors[i] = row.replace(\"[\", \"\").replace(\"]\", \"\").replace(\"'\", \"\").replace(\", \", \",\")"
   ]
  },
  {
   "cell_type": "markdown",
   "id": "young-waterproof",
   "metadata": {},
   "source": [
    "### Clean Awards"
   ]
  },
  {
   "cell_type": "code",
   "execution_count": 10,
   "id": "harmful-lesbian",
   "metadata": {},
   "outputs": [],
   "source": [
    "awards = list(movies_df[\"awards\"])"
   ]
  },
  {
   "cell_type": "code",
   "execution_count": 11,
   "id": "african-valentine",
   "metadata": {},
   "outputs": [],
   "source": [
    "for i, row in enumerate(awards):\n",
    "    if type(row) != float:\n",
    "        row = row.replace(\" \", \"\").replace(\"\\\\n\", \"\").replace(\"[\", \"\").replace(\"]\", \"\")\n",
    "        awards[i] = row.replace(\"'\", \"\").replace(\"for\", \"\").replace(\"&\", \"\").replace(\"Another\", \"\").replace(\".\", \"\")"
   ]
  },
  {
   "cell_type": "markdown",
   "id": "african-differential",
   "metadata": {},
   "source": [
    "### Clean Country"
   ]
  },
  {
   "cell_type": "code",
   "execution_count": 12,
   "id": "conservative-pension",
   "metadata": {},
   "outputs": [],
   "source": [
    "countries = list(movies_df[\"country\"])"
   ]
  },
  {
   "cell_type": "code",
   "execution_count": 13,
   "id": "dominican-musical",
   "metadata": {},
   "outputs": [],
   "source": [
    "for i, row in enumerate(countries):\n",
    "    if type(row) != float:\n",
    "        countries[i] = row.replace(\"\\n\", \"\").replace(\"|\", \",\").replace(\" \", \"\")"
   ]
  },
  {
   "cell_type": "markdown",
   "id": "written-nightlife",
   "metadata": {},
   "source": [
    "### Clean  Language"
   ]
  },
  {
   "cell_type": "code",
   "execution_count": 14,
   "id": "brazilian-chain",
   "metadata": {},
   "outputs": [],
   "source": [
    "languages = list(movies_df[\"language\"])"
   ]
  },
  {
   "cell_type": "code",
   "execution_count": 15,
   "id": "plain-sphere",
   "metadata": {},
   "outputs": [],
   "source": [
    "for i, row in enumerate(languages):\n",
    "    if type(row) != float:\n",
    "        languages[i] = row.replace(\"\\n\", \"\").replace(\"|\", \",\").replace(\" \", \"\")"
   ]
  },
  {
   "cell_type": "markdown",
   "id": "confused-diameter",
   "metadata": {},
   "source": [
    "### Clean Worldwide Gross"
   ]
  },
  {
   "cell_type": "code",
   "execution_count": 16,
   "id": "polar-bottle",
   "metadata": {},
   "outputs": [],
   "source": [
    "ww_gross = list(movies_df[\"worldwideGross\"])"
   ]
  },
  {
   "cell_type": "code",
   "execution_count": 17,
   "id": "recent-vintage",
   "metadata": {},
   "outputs": [],
   "source": [
    "for i, row in enumerate(ww_gross):\n",
    "    if type(row) != float:\n",
    "        ww_gross[i] = row.replace(\" \", \"\").replace(\"\\n\", \"\")\n"
   ]
  },
  {
   "cell_type": "markdown",
   "id": "owned-reservation",
   "metadata": {},
   "source": [
    "### Replacing dirty with clean strings"
   ]
  },
  {
   "cell_type": "code",
   "execution_count": 18,
   "id": "institutional-receiver",
   "metadata": {
    "scrolled": true
   },
   "outputs": [],
   "source": [
    "movies_df[\"actors\"] = actors\n",
    "movies_df[\"awards\"] = awards\n",
    "movies_df[\"country\"] = countries\n",
    "movies_df[\"language\"] = languages\n",
    "movies_df[\"worldwideGross\"] = ww_gross"
   ]
  },
  {
   "cell_type": "markdown",
   "id": "romantic-producer",
   "metadata": {},
   "source": [
    "### Separate awards string"
   ]
  },
  {
   "cell_type": "code",
   "execution_count": 20,
   "id": "interpreted-underwear",
   "metadata": {},
   "outputs": [],
   "source": [
    "awards = list(movies_df[\"awards\"])"
   ]
  },
  {
   "cell_type": "code",
   "execution_count": 21,
   "id": "signed-positive",
   "metadata": {},
   "outputs": [],
   "source": [
    "for i, row in enumerate(awards):\n",
    "    if type(row) != float:\n",
    "        awards[i] = row.split(\",\")"
   ]
  },
  {
   "cell_type": "code",
   "execution_count": 22,
   "id": "voluntary-theology",
   "metadata": {},
   "outputs": [],
   "source": [
    "n_wins_list = []\n",
    "n_noms_list = []\n",
    "oscar_wins_list = []\n",
    "oscar_noms_list = []\n",
    "gg_wins_list = []\n",
    "gg_noms_list = []\n",
    "\n",
    "for i, row in enumerate(awards):\n",
    "    \n",
    "    n_wins = \"0\"\n",
    "    n_noms = \"0\"\n",
    "    oscar_wins = \"0\"\n",
    "    oscar_noms = \"0\"\n",
    "    gg_wins = \"0\"\n",
    "    gg_noms = \"0\"\n",
    "\n",
    "    if type(row) != float:\n",
    "\n",
    "        if len(row) == 1:\n",
    "            \n",
    "            \n",
    "            if row[0].find(\"Oscar\") != -1:\n",
    "                if row[0].find(\"Won\") != -1:\n",
    "                    oscars_i = row[0].find(\"Oscar\")\n",
    "                    oscar_wins = row[0][len(\"Won\"):oscars_i]\n",
    "\n",
    "                if row[0].find(\"Nominated\") != -1:\n",
    "                    oscars_i = row[0].find(\"Oscar\")\n",
    "                    oscar_noms = row[0][len(\"Nominated\"):oscars_i]\n",
    "\n",
    "\n",
    "            elif row[0].find(\"GoldenGlobe\") != -1:\n",
    "                if row[0].find(\"Won\") != -1:\n",
    "                    gg_i = row[0].find(\"GoldenGlobe\")\n",
    "                    gg_wins = row[0][len(\"Won\"):gg_i]\n",
    "\n",
    "                if row[0].find(\"Nominated\") != -1:\n",
    "                    gg_i = row[0].find(\"GoldeGlobe\")\n",
    "                    gg_noms = row[0][len(\"Nominated\"):gg_i]\n",
    "            \n",
    "            else:   \n",
    "                wins_i = row[0].find(\"win\")\n",
    "\n",
    "                if wins_i != -1:\n",
    "                    n_wins = row[0][:wins_i]\n",
    "                #row[1] = row[1][wins_i + len(\"wins\"):]\n",
    "\n",
    "                noms_i = row[0].find(\"nomination\")\n",
    "\n",
    "                if row[0].find(\"wins\") != -1:\n",
    "                    n_noms = row[0][wins_i + len(\"wins\"):noms_i]\n",
    "                else:\n",
    "                    if wins_i == -1:\n",
    "                        n_noms = row[0][:noms_i]\n",
    "                    else:\n",
    "                        n_noms = row[0][wins_i + len(\"win\"):noms_i]\n",
    "\n",
    "\n",
    "\n",
    "        # Get wins and nominations if len(row) > 1\n",
    "        if len(row) > 1:\n",
    "\n",
    "            if row[0].find(\"Oscar\") != -1:\n",
    "                if row[0].find(\"Won\") != -1:\n",
    "                    oscars_i = row[0].find(\"Oscar\")\n",
    "                    oscar_wins = row[0][len(\"Won\"):oscars_i]\n",
    "\n",
    "                if row[0].find(\"Nominated\") != -1:\n",
    "                    oscars_i = row[0].find(\"Oscar\")\n",
    "                    oscar_noms = row[0][len(\"Nominated\"):oscars_i]\n",
    "\n",
    "\n",
    "            if row[0].find(\"GoldenGlobe\") != -1:\n",
    "                if row[0].find(\"Won\") != -1:\n",
    "                    gg_i = row[0].find(\"GoldenGlobe\")\n",
    "                    gg_wins = row[0][len(\"Won\"):gg_i]\n",
    "\n",
    "                if row[0].find(\"Nominated\") != -1:\n",
    "                    gg_i = row[0].find(\"GoldenGlobe\")\n",
    "                    gg_noms = row[0][len(\"Nominated\"):gg_i]        \n",
    "\n",
    "\n",
    "            wins_i = row[1].find(\"win\")\n",
    "            \n",
    "            if wins_i != -1:\n",
    "                n_wins = row[1][:wins_i]\n",
    "            #row[1] = row[1][wins_i + len(\"wins\"):]\n",
    "\n",
    "            noms_i = row[1].find(\"nomination\")\n",
    "\n",
    "            if row[1].find(\"wins\") != -1:\n",
    "                n_noms = row[1][wins_i + len(\"wins\"):noms_i]\n",
    "            else:\n",
    "                if wins_i == -1:\n",
    "                    n_noms = row[1][:noms_i]\n",
    "                else:\n",
    "                    n_noms = row[1][wins_i + len(\"win\"):noms_i]\n",
    "    \n",
    "    n_wins_list.append(n_wins)\n",
    "    n_noms_list.append(n_noms)\n",
    "    oscar_wins_list.append(oscar_wins)\n",
    "    oscar_noms_list.append(oscar_noms)\n",
    "    gg_wins_list.append(gg_wins)\n",
    "    gg_noms_list.append(gg_noms)"
   ]
  },
  {
   "cell_type": "code",
   "execution_count": 23,
   "id": "rough-meter",
   "metadata": {},
   "outputs": [],
   "source": [
    "movies_df[\"oscarsWon\"] = oscar_wins_list\n",
    "movies_df[\"oscarsNom\"] = oscar_noms_list\n",
    "movies_df[\"goldenGlobesWon\"] = gg_wins_list\n",
    "movies_df[\"goldenGlobesNom\"] = gg_noms_list\n",
    "movies_df[\"totalWins\"] = n_wins_list\n",
    "movies_df[\"totalNoms\"] = n_noms_list"
   ]
  },
  {
   "cell_type": "code",
   "execution_count": 25,
   "id": "identical-calvin",
   "metadata": {},
   "outputs": [],
   "source": [
    "movies_df = movies_df[movies_df[\"numVotes\"].notnull()]\n",
    "movies_df = movies_df[movies_df[\"runtimeMinutes\"] != \"\\\\N\"]\n",
    "movies_df[\"totalNoms\"] = movies_df[\"totalNoms\"].fillna(0)\n",
    "movies_df[[\"totalNoms\"]] = movies_df[[\"totalNoms\"]].replace(to_replace=\"\", value=\"0\")"
   ]
  },
  {
   "cell_type": "code",
   "execution_count": 39,
   "id": "aboriginal-geneva",
   "metadata": {},
   "outputs": [],
   "source": [
    "movies_df[\"numVotes\"] = movies_df[\"numVotes\"].astype(int)\n",
    "\n",
    "movies_df[\"runtimeMinutes\"] = movies_df[\"runtimeMinutes\"].astype(int)\n",
    "\n",
    "movies_df[\"totalNoms\"] = movies_df[\"totalNoms\"].astype(int)"
   ]
  },
  {
   "cell_type": "code",
   "execution_count": null,
   "id": "historical-statistics",
   "metadata": {},
   "outputs": [],
   "source": []
  }
 ],
 "metadata": {
  "kernelspec": {
   "display_name": "Python 3",
   "language": "python",
   "name": "python3"
  },
  "language_info": {
   "codemirror_mode": {
    "name": "ipython",
    "version": 3
   },
   "file_extension": ".py",
   "mimetype": "text/x-python",
   "name": "python",
   "nbconvert_exporter": "python",
   "pygments_lexer": "ipython3",
   "version": "3.8.6"
  }
 },
 "nbformat": 4,
 "nbformat_minor": 5
}
